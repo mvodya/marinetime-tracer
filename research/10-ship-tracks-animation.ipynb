{
 "cells": [
  {
   "cell_type": "code",
   "execution_count": 37,
   "metadata": {},
   "outputs": [],
   "source": [
    "import psycopg2\n",
    "import os\n",
    "import matplotlib.pyplot as plt\n",
    "from mpl_toolkits.basemap import Basemap\n",
    "import dotenv\n",
    "import numpy as np\n",
    "import random\n",
    "from datetime import datetime, timedelta, timezone\n",
    "from tqdm import tqdm"
   ]
  },
  {
   "cell_type": "code",
   "execution_count": 2,
   "metadata": {},
   "outputs": [],
   "source": [
    "dotenv.load_dotenv('.env', override=True)\n",
    "\n",
    "# Connect to DB\n",
    "conn = psycopg2.connect(\n",
    "    f\"dbname='{os.environ['POSTGRES_DB']}' user='{os.environ['POSTGRES_USER']}' \"\n",
    "    f\"host='{os.environ['POSTGRES_HOST']}' password='{os.environ['POSTGRES_PASSWORD']}'\"\n",
    ")"
   ]
  },
  {
   "cell_type": "code",
   "execution_count": 3,
   "metadata": {},
   "outputs": [],
   "source": [
    "from_date = \"2024-10-30 06:00:00\"\n",
    "to_date = datetime.now(timezone.utc).strftime(\"%Y-%m-%d %H:%M:%S\")"
   ]
  },
  {
   "cell_type": "code",
   "execution_count": 38,
   "metadata": {},
   "outputs": [],
   "source": [
    "def showTracksInArea(left, right, top, bottom, from_date, to_date, show_names=True, title=\"\",\n",
    "                     speed_limit=1, width_limit=1, resolution=\"f\", frame_interval_minutes=30,\n",
    "                     history_hours=2, dir_name=\"animation\", interpolation_frames=0):\n",
    "    from_date = datetime.strptime(\n",
    "        from_date, \"%Y-%m-%d %H:%M:%S\").replace(tzinfo=timezone.utc)\n",
    "    to_date = datetime.strptime(\n",
    "        to_date, \"%Y-%m-%d %H:%M:%S\").replace(tzinfo=timezone.utc)\n",
    "\n",
    "    frames_dir = f\"frames/{dir_name}\"\n",
    "    os.makedirs(frames_dir, exist_ok=True)\n",
    "\n",
    "    with conn.cursor() as cursor:\n",
    "        cursor.execute(f\"\"\"\n",
    "            SELECT ships.name, ships.id, location[0] AS latitude, location[1] AS longitude, positions.parsed_date\n",
    "            FROM positions\n",
    "            JOIN ships ON positions.ship_id = ships.id\n",
    "            WHERE positions.location[0] BETWEEN {bottom} AND {top}\n",
    "            AND positions.location[1] BETWEEN {left} AND {right}\n",
    "            AND ships.width > {width_limit}\n",
    "            AND positions.speed > {speed_limit}\n",
    "            AND positions.parsed_date > '{from_date}'::timestamp\n",
    "            AND positions.parsed_date <= '{to_date}'::timestamp\n",
    "            ORDER BY ships.name, positions.parsed_date\n",
    "        \"\"\")\n",
    "        data = cursor.fetchall()\n",
    "\n",
    "    ship_data = {}\n",
    "    for row in data:\n",
    "        name, id, lat, lon, parsed_date = row\n",
    "        if id not in ship_data:\n",
    "            ship_data[id] = {'name': name, 'locations': []}\n",
    "        ship_data[id]['locations'].append((lat, lon, parsed_date))\n",
    "\n",
    "    history_duration = timedelta(hours=history_hours)\n",
    "    frame_interval = timedelta(minutes=frame_interval_minutes / (interpolation_frames + 1))\n",
    "    total_frames = int((to_date - from_date) / frame_interval)\n",
    "\n",
    "    frame_count = 0\n",
    "    current_time = from_date\n",
    "    with tqdm(total=total_frames, desc=\"Rendering frames\") as pbar:\n",
    "        while current_time < to_date:\n",
    "            history_start = max(current_time - history_duration, from_date)\n",
    "            interval_end = current_time + frame_interval\n",
    "\n",
    "            plt.figure(figsize=(12, 12 * (top - bottom) / (right - left)))\n",
    "            m = Basemap(projection='merc',\n",
    "                        llcrnrlat=bottom, urcrnrlat=top,\n",
    "                        llcrnrlon=left, urcrnrlon=right,\n",
    "                        resolution=resolution)\n",
    "            m.drawcoastlines()\n",
    "            m.drawcountries()\n",
    "            m.drawmapboundary(fill_color='aqua')\n",
    "            m.fillcontinents(color='lightgreen', lake_color='aqua')\n",
    "\n",
    "            map_width_km = 0.1 * abs(right - left) * 111\n",
    "            scale_length = max(round(map_width_km, -1), 5)\n",
    "\n",
    "            m.drawmapscale(\n",
    "                right - 0.2 * abs(right - left),\n",
    "                bottom + 0.1 * abs(top - bottom),\n",
    "                left, top,\n",
    "                length=scale_length,\n",
    "                barstyle='fancy', labelstyle='simple', units='km', fontsize=6\n",
    "            )\n",
    "\n",
    "            for id, info in ship_data.items():\n",
    "                interpolated_locations = []\n",
    "                for i in range(len(info['locations']) - 1):\n",
    "                    start = info['locations'][i]\n",
    "                    end = info['locations'][i + 1]\n",
    "                    interpolated_locations.append(start)\n",
    "                    time_delta = (end[2] - start[2]) / (interpolation_frames + 1)\n",
    "                    for j in range(1, interpolation_frames + 1):\n",
    "                        lat = start[0] + (end[0] - start[0]) * j / (interpolation_frames + 1)\n",
    "                        lon = start[1] + (end[1] - start[1]) * j / (interpolation_frames + 1)\n",
    "                        parsed_date = start[2] + time_delta * j\n",
    "                        interpolated_locations.append((lat, lon, parsed_date))\n",
    "                interpolated_locations.append(info['locations'][-1])\n",
    "\n",
    "                locations = [(lat, lon) for lat, lon, date in interpolated_locations\n",
    "                             if history_start <= date < interval_end]\n",
    "                if len(locations) > 1:\n",
    "                    lats, lons = zip(*locations)\n",
    "                    x, y = m(lons, lats)\n",
    "                    random.seed(info[\"name\"])\n",
    "                    color = (random.random(), random.random(), random.random())\n",
    "                    m.plot(x, y, linewidth=1, color=color)\n",
    "                    m.plot(x[-1], y[-1], marker='x',\n",
    "                           markersize=3, linewidth=1, color=color)\n",
    "\n",
    "                    if show_names:\n",
    "                        plt.text(\n",
    "                            x[-1], y[-1], f'{info[\"name\"]}', fontsize=6, color=color, ha='right')\n",
    "\n",
    "            plt.text(0.01, 0.98, f'Area: {top}, {left}; {right}, {bottom}\\n'\n",
    "                     f'Current frame time: {current_time.strftime(\"%Y-%m-%d %H:%M:%S\")} UTC+0\\n'\n",
    "                     f'Number of ships: {len([info for info in ship_data.values() if any(history_start <= date < interval_end for _, _, date in info[\"locations\"])])}\\n'\n",
    "                     f'Track points in frame: {sum(1 for info in ship_data.values() for _, _, date in info[\"locations\"] if history_start <= date < interval_end)}',\n",
    "                     fontsize=8, color='black', ha='left', va=\"top\", transform=plt.gca().transAxes,\n",
    "                     bbox=dict(facecolor='white', alpha=0.7, edgecolor='none'))\n",
    "\n",
    "            plt.title(f\"Tracks of Ships in {title}\")\n",
    "            plt.savefig(f\"{frames_dir}/frame_{frame_count}.png\", bbox_inches='tight')\n",
    "            plt.close()\n",
    "\n",
    "            current_time = interval_end\n",
    "            frame_count += 1\n",
    "            pbar.update(1)\n",
    "\n",
    "    print(f\"{frame_count} frames saved to {frames_dir}\")\n"
   ]
  },
  {
   "cell_type": "code",
   "execution_count": 39,
   "metadata": {},
   "outputs": [
    {
     "name": "stderr",
     "output_type": "stream",
     "text": [
      "Rendering frames:  78%|███████▊  | 62/80 [01:32<00:25,  1.41s/it]"
     ]
    }
   ],
   "source": [
    "showTracksInArea(131.653822, 132.289930, 43.324740, 42.837461,\n",
    "                 from_date=from_date, to_date=to_date,\n",
    "                 title=\"Vladivostok area\", show_names=False, resolution=\"i\", frame_interval_minutes=15,\n",
    "                 history_hours=2, dir_name=\"vladivostok_area\", interpolation_frames=4)"
   ]
  },
  {
   "cell_type": "code",
   "execution_count": 40,
   "metadata": {},
   "outputs": [
    {
     "name": "stderr",
     "output_type": "stream",
     "text": [
      "Rendering frames: 26it [00:36,  1.40s/it]                        "
     ]
    },
    {
     "name": "stdout",
     "output_type": "stream",
     "text": [
      "26 frames saved to frames/vladivostok_port\n"
     ]
    },
    {
     "name": "stderr",
     "output_type": "stream",
     "text": [
      "\n"
     ]
    }
   ],
   "source": [
    "showTracksInArea(131.811162, 131.963941, 43.118932, 43.047156,\n",
    "                 from_date=\"2024-10-30 08:00:00\", to_date=\"2024-10-30 12:00:00\",\n",
    "                 title=\"Port of Vladivostok\", show_names=True, resolution=\"i\", frame_interval_minutes=15,\n",
    "                 history_hours=2, dir_name=\"vladivostok_port\", interpolation_frames=4)"
   ]
  },
  {
   "cell_type": "code",
   "execution_count": 41,
   "metadata": {},
   "outputs": [
    {
     "name": "stderr",
     "output_type": "stream",
     "text": [
      "Rendering frames: 26it [00:36,  1.39s/it]                        "
     ]
    },
    {
     "name": "stdout",
     "output_type": "stream",
     "text": [
      "26 frames saved to frames/vladivostok_port\n"
     ]
    },
    {
     "name": "stderr",
     "output_type": "stream",
     "text": [
      "\n"
     ]
    }
   ],
   "source": [
    "showTracksInArea(139.587235, 140.124683, 35.723855, 35.079824,\n",
    "                 from_date=from_date, to_date=to_date,\n",
    "                 title=\"Tokyo area\", show_names=True, resolution=\"i\", frame_interval_minutes=15,\n",
    "                 history_hours=2, dir_name=\"tokyo_area\", interpolation_frames=4)"
   ]
  },
  {
   "cell_type": "code",
   "execution_count": 42,
   "metadata": {},
   "outputs": [
    {
     "name": "stderr",
     "output_type": "stream",
     "text": [
      "Rendering frames: 26it [00:39,  1.51s/it]                        "
     ]
    },
    {
     "name": "stdout",
     "output_type": "stream",
     "text": [
      "26 frames saved to frames/tokyo_port\n"
     ]
    },
    {
     "name": "stderr",
     "output_type": "stream",
     "text": [
      "\n"
     ]
    }
   ],
   "source": [
    "showTracksInArea(139.620327, 140.142928, 35.688097, 35.430781,\n",
    "                 from_date=from_date, to_date=to_date,\n",
    "                 title=\"Port of Tokyo\", show_names=True, resolution=\"i\", frame_interval_minutes=15,\n",
    "                 history_hours=2, dir_name=\"tokyo_port\", interpolation_frames=4)"
   ]
  },
  {
   "cell_type": "code",
   "execution_count": null,
   "metadata": {},
   "outputs": [
    {
     "name": "stderr",
     "output_type": "stream",
     "text": [
      "Rendering frames:   9%|▊         | 43/504 [01:52<21:07,  2.75s/it]"
     ]
    }
   ],
   "source": [
    "showTracksInArea(132.051025, 135.503411, 34.882905, 33.231879,\n",
    "                 from_date=\"2024-10-29 12:00:00\", to_date=\"2024-10-30 13:12:00\",\n",
    "                 title=\"Seto Inland Sea\", show_names=False, resolution=\"i\", frame_interval_minutes=15, history_hours=2, dir_name=\"seto_inland_sea\", interpolation_frames=4)"
   ]
  }
 ],
 "metadata": {
  "kernelspec": {
   "display_name": "Python 3",
   "language": "python",
   "name": "python3"
  },
  "language_info": {
   "codemirror_mode": {
    "name": "ipython",
    "version": 3
   },
   "file_extension": ".py",
   "mimetype": "text/x-python",
   "name": "python",
   "nbconvert_exporter": "python",
   "pygments_lexer": "ipython3",
   "version": "3.11.10"
  }
 },
 "nbformat": 4,
 "nbformat_minor": 2
}
