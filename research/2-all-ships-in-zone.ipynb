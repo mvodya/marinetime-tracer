{
 "cells": [
  {
   "cell_type": "code",
   "execution_count": 97,
   "metadata": {},
   "outputs": [],
   "source": [
    "from seleniumbase import Driver\n",
    "from selenium.webdriver.common.keys import Keys\n",
    "\n",
    "from rich.pretty import pprint\n",
    "import json\n",
    "import re"
   ]
  },
  {
   "cell_type": "code",
   "execution_count": 98,
   "metadata": {},
   "outputs": [],
   "source": [
    "driver = Driver(uc=True, uc_cdp_events=True)\n",
    "\n",
    "raw = []\n",
    "\n",
    "def save(data):\n",
    "    req = {}\n",
    "    req[\"id\"] = data[\"params\"][\"requestId\"]\n",
    "    req[\"path\"] = data[\"params\"][\"headers\"][\":path\"]\n",
    "    if \"/getData/\" in req[\"path\"]:\n",
    "        raw.append(req)\n",
    "\n",
    "driver.add_cdp_listener('Network.requestWillBeSentExtraInfo', save)\n",
    "\n",
    "driver.get(\n",
    "    \"https://www.marinetraffic.com/en/ais/home/centerx:132.2/centery:43.0/zoom:10\")\n",
    "\n",
    "driver.sleep(3)\n",
    "\n",
    "driver.click('button:contains(\"AGREE\")')\n",
    "\n",
    "driver.sleep(1)\n",
    "\n",
    "# Magic clicks\n",
    "driver.click(\"div#map_canvas\")\n",
    "map = driver.find_element(\"div#map_canvas\")\n",
    "map.send_keys(Keys.RETURN)\n",
    "\n",
    "# Zoom in\n",
    "for i in range(3):\n",
    "    driver.click('a[title=\"Zoom in\"]')\n",
    "    driver.sleep(1)\n",
    "\n",
    "# Zoom out\n",
    "for i in range(6):\n",
    "    driver.click('a[title=\"Zoom out\"]')\n",
    "    driver.sleep(1)\n",
    "\n",
    "driver.sleep(3)\n",
    "\n",
    "for req in raw:\n",
    "    try:\n",
    "        response = driver.execute_cdp_cmd(\n",
    "            \"Network.getResponseBody\", {\"requestId\": req[\"id\"]})\n",
    "        req[\"response\"] = response\n",
    "    except Exception as e:\n",
    "        req[\"response\"] = None\n",
    "\n",
    "driver.sleep(3)\n",
    "driver.close()"
   ]
  },
  {
   "cell_type": "code",
   "execution_count": 99,
   "metadata": {},
   "outputs": [
    {
     "data": {
      "text/plain": [
       "63"
      ]
     },
     "execution_count": 99,
     "metadata": {},
     "output_type": "execute_result"
    }
   ],
   "source": [
    "len(raw)"
   ]
  },
  {
   "cell_type": "code",
   "execution_count": 100,
   "metadata": {},
   "outputs": [],
   "source": [
    "def shipRawParser(raw):\n",
    "    regex = r\"z:(?P<z>\\d+)\\/X:(?P<x>\\d+)\\/Y:(?P<y>\\d+)\"\n",
    "\n",
    "    shipData = []\n",
    "    for r in raw:\n",
    "        if \"get_data_json_4\" in r[\"path\"]:\n",
    "            matches = re.findall(regex, r[\"path\"])\n",
    "            z = matches[0][0]\n",
    "            x = matches[0][1]\n",
    "            y = matches[0][2]\n",
    "\n",
    "            rows = json.loads(r[\"response\"][\"body\"])[\"data\"][\"rows\"]\n",
    "            for row in rows:\n",
    "                data = {}\n",
    "                data[\"z\"] = z\n",
    "                data[\"x\"] = x\n",
    "                data[\"y\"] = y\n",
    "\n",
    "                data[\"data\"] = row\n",
    "\n",
    "                shipData.append(data)\n",
    "\n",
    "    return shipData\n",
    "\n",
    "shipData = shipRawParser(raw)"
   ]
  },
  {
   "cell_type": "code",
   "execution_count": 101,
   "metadata": {},
   "outputs": [
    {
     "data": {
      "text/plain": [
       "2096"
      ]
     },
     "execution_count": 101,
     "metadata": {},
     "output_type": "execute_result"
    }
   ],
   "source": [
    "len(shipData)"
   ]
  },
  {
   "cell_type": "code",
   "execution_count": 102,
   "metadata": {},
   "outputs": [
    {
     "data": {
      "text/html": [
       "<pre style=\"white-space:pre;overflow-x:auto;line-height:normal;font-family:Menlo,'DejaVu Sans Mono',consolas,'Courier New',monospace\"><span style=\"font-weight: bold\">[</span>\n",
       "<span style=\"color: #7fbf7f; text-decoration-color: #7fbf7f\">│   </span><span style=\"font-weight: bold\">{</span>\n",
       "<span style=\"color: #7fbf7f; text-decoration-color: #7fbf7f\">│   │   </span><span style=\"color: #008000; text-decoration-color: #008000\">'z'</span>: <span style=\"color: #008000; text-decoration-color: #008000\">'10'</span>,\n",
       "<span style=\"color: #7fbf7f; text-decoration-color: #7fbf7f\">│   │   </span><span style=\"color: #008000; text-decoration-color: #008000\">'x'</span>: <span style=\"color: #008000; text-decoration-color: #008000\">'444'</span>,\n",
       "<span style=\"color: #7fbf7f; text-decoration-color: #7fbf7f\">│   │   </span><span style=\"color: #008000; text-decoration-color: #008000\">'y'</span>: <span style=\"color: #008000; text-decoration-color: #008000\">'187'</span>,\n",
       "<span style=\"color: #7fbf7f; text-decoration-color: #7fbf7f\">│   │   </span><span style=\"color: #008000; text-decoration-color: #008000\">'data'</span>: <span style=\"font-weight: bold\">{</span>\n",
       "<span style=\"color: #7fbf7f; text-decoration-color: #7fbf7f\">│   │   │   </span><span style=\"color: #008000; text-decoration-color: #008000\">'LAT'</span>: <span style=\"color: #008000; text-decoration-color: #008000\">'43.12085'</span>,\n",
       "<span style=\"color: #7fbf7f; text-decoration-color: #7fbf7f\">│   │   │   </span><span style=\"color: #008000; text-decoration-color: #008000\">'LON'</span>: <span style=\"color: #008000; text-decoration-color: #008000\">'132.3367'</span>,\n",
       "<span style=\"color: #7fbf7f; text-decoration-color: #7fbf7f\">│   │   │   </span><span style=\"color: #008000; text-decoration-color: #008000\">'SPEED'</span>: <span style=\"color: #008000; text-decoration-color: #008000\">'22'</span>,\n",
       "<span style=\"color: #7fbf7f; text-decoration-color: #7fbf7f\">│   │   │   </span><span style=\"color: #008000; text-decoration-color: #008000\">'COURSE'</span>: <span style=\"color: #008000; text-decoration-color: #008000\">'192'</span>,\n",
       "<span style=\"color: #7fbf7f; text-decoration-color: #7fbf7f\">│   │   │   </span><span style=\"color: #008000; text-decoration-color: #008000\">'HEADING'</span>: <span style=\"color: #008000; text-decoration-color: #008000\">'38'</span>,\n",
       "<span style=\"color: #7fbf7f; text-decoration-color: #7fbf7f\">│   │   │   </span><span style=\"color: #008000; text-decoration-color: #008000\">'ELAPSED'</span>: <span style=\"color: #008000; text-decoration-color: #008000\">'1'</span>,\n",
       "<span style=\"color: #7fbf7f; text-decoration-color: #7fbf7f\">│   │   │   </span><span style=\"color: #008000; text-decoration-color: #008000\">'DESTINATION'</span>: <span style=\"color: #008000; text-decoration-color: #008000\">'FOR ORDER'</span>,\n",
       "<span style=\"color: #7fbf7f; text-decoration-color: #7fbf7f\">│   │   │   </span><span style=\"color: #008000; text-decoration-color: #008000\">'FLAG'</span>: <span style=\"color: #008000; text-decoration-color: #008000\">'RU'</span>,\n",
       "<span style=\"color: #7fbf7f; text-decoration-color: #7fbf7f\">│   │   │   </span><span style=\"color: #008000; text-decoration-color: #008000\">'LENGTH'</span>: <span style=\"color: #008000; text-decoration-color: #008000\">'130'</span>,\n",
       "<span style=\"color: #7fbf7f; text-decoration-color: #7fbf7f\">│   │   │   </span><span style=\"color: #008000; text-decoration-color: #008000\">'ROT'</span>: <span style=\"color: #008000; text-decoration-color: #008000\">'0'</span>,\n",
       "<span style=\"color: #7fbf7f; text-decoration-color: #7fbf7f\">│   │   │   </span><span style=\"color: #008000; text-decoration-color: #008000\">'SHIPNAME'</span>: <span style=\"color: #008000; text-decoration-color: #008000\">'PLAVUCHIY KRAN 3500'</span>,\n",
       "<span style=\"color: #7fbf7f; text-decoration-color: #7fbf7f\">│   │   │   </span><span style=\"color: #008000; text-decoration-color: #008000\">'SHIPTYPE'</span>: <span style=\"color: #008000; text-decoration-color: #008000\">'3'</span>,\n",
       "<span style=\"color: #7fbf7f; text-decoration-color: #7fbf7f\">│   │   │   </span><span style=\"color: #008000; text-decoration-color: #008000\">'SHIP_ID'</span>: <span style=\"color: #008000; text-decoration-color: #008000\">'7203862'</span>,\n",
       "<span style=\"color: #7fbf7f; text-decoration-color: #7fbf7f\">│   │   │   </span><span style=\"color: #008000; text-decoration-color: #008000\">'WIDTH'</span>: <span style=\"color: #008000; text-decoration-color: #008000\">'48'</span>,\n",
       "<span style=\"color: #7fbf7f; text-decoration-color: #7fbf7f\">│   │   │   </span><span style=\"color: #008000; text-decoration-color: #008000\">'L_FORE'</span>: <span style=\"color: #008000; text-decoration-color: #008000\">'71'</span>,\n",
       "<span style=\"color: #7fbf7f; text-decoration-color: #7fbf7f\">│   │   │   </span><span style=\"color: #008000; text-decoration-color: #008000\">'W_LEFT'</span>: <span style=\"color: #008000; text-decoration-color: #008000\">'29'</span>,\n",
       "<span style=\"color: #7fbf7f; text-decoration-color: #7fbf7f\">│   │   │   </span><span style=\"color: #008000; text-decoration-color: #008000\">'DWT'</span>: <span style=\"color: #008000; text-decoration-color: #008000\">'15045'</span>,\n",
       "<span style=\"color: #7fbf7f; text-decoration-color: #7fbf7f\">│   │   │   </span><span style=\"color: #008000; text-decoration-color: #008000\">'GT_SHIPTYPE'</span>: <span style=\"color: #008000; text-decoration-color: #008000\">'127'</span>\n",
       "<span style=\"color: #7fbf7f; text-decoration-color: #7fbf7f\">│   │   </span><span style=\"font-weight: bold\">}</span>\n",
       "<span style=\"color: #7fbf7f; text-decoration-color: #7fbf7f\">│   </span><span style=\"font-weight: bold\">}</span>,\n",
       "<span style=\"color: #7fbf7f; text-decoration-color: #7fbf7f\">│   </span><span style=\"font-weight: bold\">{</span>\n",
       "<span style=\"color: #7fbf7f; text-decoration-color: #7fbf7f\">│   │   </span><span style=\"color: #008000; text-decoration-color: #008000\">'z'</span>: <span style=\"color: #008000; text-decoration-color: #008000\">'10'</span>,\n",
       "<span style=\"color: #7fbf7f; text-decoration-color: #7fbf7f\">│   │   </span><span style=\"color: #008000; text-decoration-color: #008000\">'x'</span>: <span style=\"color: #008000; text-decoration-color: #008000\">'444'</span>,\n",
       "<span style=\"color: #7fbf7f; text-decoration-color: #7fbf7f\">│   │   </span><span style=\"color: #008000; text-decoration-color: #008000\">'y'</span>: <span style=\"color: #008000; text-decoration-color: #008000\">'187'</span>,\n",
       "<span style=\"color: #7fbf7f; text-decoration-color: #7fbf7f\">│   │   </span><span style=\"color: #008000; text-decoration-color: #008000\">'data'</span>: <span style=\"font-weight: bold\">{</span>\n",
       "<span style=\"color: #7fbf7f; text-decoration-color: #7fbf7f\">│   │   │   </span><span style=\"color: #008000; text-decoration-color: #008000\">'LAT'</span>: <span style=\"color: #008000; text-decoration-color: #008000\">'43.22013'</span>,\n",
       "<span style=\"color: #7fbf7f; text-decoration-color: #7fbf7f\">│   │   │   </span><span style=\"color: #008000; text-decoration-color: #008000\">'LON'</span>: <span style=\"color: #008000; text-decoration-color: #008000\">'132.3126'</span>,\n",
       "<span style=\"color: #7fbf7f; text-decoration-color: #7fbf7f\">│   │   │   </span><span style=\"color: #008000; text-decoration-color: #008000\">'SPEED'</span>: <span style=\"color: #008000; text-decoration-color: #008000\">'18'</span>,\n",
       "<span style=\"color: #7fbf7f; text-decoration-color: #7fbf7f\">│   │   │   </span><span style=\"color: #008000; text-decoration-color: #008000\">'COURSE'</span>: <span style=\"color: #008000; text-decoration-color: #008000\">'51'</span>,\n",
       "<span style=\"color: #7fbf7f; text-decoration-color: #7fbf7f\">│   │   │   </span><span style=\"color: #008000; text-decoration-color: #008000\">'HEADING'</span>: <span style=\"color: #008000; text-decoration-color: #008000\">'277'</span>,\n",
       "<span style=\"color: #7fbf7f; text-decoration-color: #7fbf7f\">│   │   │   </span><span style=\"color: #008000; text-decoration-color: #008000\">'ELAPSED'</span>: <span style=\"color: #008000; text-decoration-color: #008000\">'381'</span>,\n",
       "<span style=\"color: #7fbf7f; text-decoration-color: #7fbf7f\">│   │   │   </span><span style=\"color: #008000; text-decoration-color: #008000\">'DESTINATION'</span>: <span style=\"color: #008000; text-decoration-color: #008000\">'CN ZOS&gt;SUKHODOL'</span>,\n",
       "<span style=\"color: #7fbf7f; text-decoration-color: #7fbf7f\">│   │   │   </span><span style=\"color: #008000; text-decoration-color: #008000\">'FLAG'</span>: <span style=\"color: #008000; text-decoration-color: #008000\">'PA'</span>,\n",
       "<span style=\"color: #7fbf7f; text-decoration-color: #7fbf7f\">│   │   │   </span><span style=\"color: #008000; text-decoration-color: #008000\">'LENGTH'</span>: <span style=\"color: #008000; text-decoration-color: #008000\">'182'</span>,\n",
       "<span style=\"color: #7fbf7f; text-decoration-color: #7fbf7f\">│   │   │   </span><span style=\"color: #008000; text-decoration-color: #008000\">'ROT'</span>: <span style=\"color: #008000; text-decoration-color: #008000\">'-33'</span>,\n",
       "<span style=\"color: #7fbf7f; text-decoration-color: #7fbf7f\">│   │   │   </span><span style=\"color: #008000; text-decoration-color: #008000\">'SHIPNAME'</span>: <span style=\"color: #008000; text-decoration-color: #008000\">'CS FORTUNE'</span>,\n",
       "<span style=\"color: #7fbf7f; text-decoration-color: #7fbf7f\">│   │   │   </span><span style=\"color: #008000; text-decoration-color: #008000\">'SHIPTYPE'</span>: <span style=\"color: #008000; text-decoration-color: #008000\">'7'</span>,\n",
       "<span style=\"color: #7fbf7f; text-decoration-color: #7fbf7f\">│   │   │   </span><span style=\"color: #008000; text-decoration-color: #008000\">'SHIP_ID'</span>: <span style=\"color: #008000; text-decoration-color: #008000\">'463849'</span>,\n",
       "<span style=\"color: #7fbf7f; text-decoration-color: #7fbf7f\">│   │   │   </span><span style=\"color: #008000; text-decoration-color: #008000\">'WIDTH'</span>: <span style=\"color: #008000; text-decoration-color: #008000\">'28'</span>,\n",
       "<span style=\"color: #7fbf7f; text-decoration-color: #7fbf7f\">│   │   │   </span><span style=\"color: #008000; text-decoration-color: #008000\">'L_FORE'</span>: <span style=\"color: #008000; text-decoration-color: #008000\">'167'</span>,\n",
       "<span style=\"color: #7fbf7f; text-decoration-color: #7fbf7f\">│   │   │   </span><span style=\"color: #008000; text-decoration-color: #008000\">'W_LEFT'</span>: <span style=\"color: #008000; text-decoration-color: #008000\">'13'</span>,\n",
       "<span style=\"color: #7fbf7f; text-decoration-color: #7fbf7f\">│   │   │   </span><span style=\"color: #008000; text-decoration-color: #008000\">'DWT'</span>: <span style=\"color: #008000; text-decoration-color: #008000\">'34006'</span>,\n",
       "<span style=\"color: #7fbf7f; text-decoration-color: #7fbf7f\">│   │   │   </span><span style=\"color: #008000; text-decoration-color: #008000\">'GT_SHIPTYPE'</span>: <span style=\"color: #008000; text-decoration-color: #008000\">'9'</span>\n",
       "<span style=\"color: #7fbf7f; text-decoration-color: #7fbf7f\">│   │   </span><span style=\"font-weight: bold\">}</span>\n",
       "<span style=\"color: #7fbf7f; text-decoration-color: #7fbf7f\">│   </span><span style=\"font-weight: bold\">}</span>,\n",
       "<span style=\"color: #7fbf7f; text-decoration-color: #7fbf7f\">│   </span><span style=\"font-weight: bold\">{</span>\n",
       "<span style=\"color: #7fbf7f; text-decoration-color: #7fbf7f\">│   │   </span><span style=\"color: #008000; text-decoration-color: #008000\">'z'</span>: <span style=\"color: #008000; text-decoration-color: #008000\">'10'</span>,\n",
       "<span style=\"color: #7fbf7f; text-decoration-color: #7fbf7f\">│   │   </span><span style=\"color: #008000; text-decoration-color: #008000\">'x'</span>: <span style=\"color: #008000; text-decoration-color: #008000\">'444'</span>,\n",
       "<span style=\"color: #7fbf7f; text-decoration-color: #7fbf7f\">│   │   </span><span style=\"color: #008000; text-decoration-color: #008000\">'y'</span>: <span style=\"color: #008000; text-decoration-color: #008000\">'187'</span>,\n",
       "<span style=\"color: #7fbf7f; text-decoration-color: #7fbf7f\">│   │   </span><span style=\"color: #008000; text-decoration-color: #008000\">'data'</span>: <span style=\"font-weight: bold\">{</span>\n",
       "<span style=\"color: #7fbf7f; text-decoration-color: #7fbf7f\">│   │   │   </span><span style=\"color: #008000; text-decoration-color: #008000\">'LAT'</span>: <span style=\"color: #008000; text-decoration-color: #008000\">'43.11924'</span>,\n",
       "<span style=\"color: #7fbf7f; text-decoration-color: #7fbf7f\">│   │   │   </span><span style=\"color: #008000; text-decoration-color: #008000\">'LON'</span>: <span style=\"color: #008000; text-decoration-color: #008000\">'132.3346'</span>,\n",
       "<span style=\"color: #7fbf7f; text-decoration-color: #7fbf7f\">│   │   │   </span><span style=\"color: #008000; text-decoration-color: #008000\">'SPEED'</span>: <span style=\"color: #008000; text-decoration-color: #008000\">'0'</span>,\n",
       "<span style=\"color: #7fbf7f; text-decoration-color: #7fbf7f\">│   │   │   </span><span style=\"color: #008000; text-decoration-color: #008000\">'COURSE'</span>: <span style=\"color: #008000; text-decoration-color: #008000\">'0'</span>,\n",
       "<span style=\"color: #7fbf7f; text-decoration-color: #7fbf7f\">│   │   │   </span><span style=\"color: #008000; text-decoration-color: #008000\">'HEADING'</span>: <span style=\"color: #800080; text-decoration-color: #800080; font-style: italic\">None</span>,\n",
       "<span style=\"color: #7fbf7f; text-decoration-color: #7fbf7f\">│   │   │   </span><span style=\"color: #008000; text-decoration-color: #008000\">'ELAPSED'</span>: <span style=\"color: #008000; text-decoration-color: #008000\">'528'</span>,\n",
       "<span style=\"color: #7fbf7f; text-decoration-color: #7fbf7f\">│   │   │   </span><span style=\"color: #008000; text-decoration-color: #008000\">'DESTINATION'</span>: <span style=\"color: #008000; text-decoration-color: #008000\">'TEST'</span>,\n",
       "<span style=\"color: #7fbf7f; text-decoration-color: #7fbf7f\">│   │   │   </span><span style=\"color: #008000; text-decoration-color: #008000\">'FLAG'</span>: <span style=\"color: #008000; text-decoration-color: #008000\">'RU'</span>,\n",
       "<span style=\"color: #7fbf7f; text-decoration-color: #7fbf7f\">│   │   │   </span><span style=\"color: #008000; text-decoration-color: #008000\">'LENGTH'</span>: <span style=\"color: #008000; text-decoration-color: #008000\">'257'</span>,\n",
       "<span style=\"color: #7fbf7f; text-decoration-color: #7fbf7f\">│   │   │   </span><span style=\"color: #008000; text-decoration-color: #008000\">'SHIPNAME'</span>: <span style=\"color: #008000; text-decoration-color: #008000\">'VALENTIN PIKUL'</span>,\n",
       "<span style=\"color: #7fbf7f; text-decoration-color: #7fbf7f\">│   │   │   </span><span style=\"color: #008000; text-decoration-color: #008000\">'SHIPTYPE'</span>: <span style=\"color: #008000; text-decoration-color: #008000\">'8'</span>,\n",
       "<span style=\"color: #7fbf7f; text-decoration-color: #7fbf7f\">│   │   │   </span><span style=\"color: #008000; text-decoration-color: #008000\">'SHIP_ID'</span>: <span style=\"color: #008000; text-decoration-color: #008000\">'8649383'</span>,\n",
       "<span style=\"color: #7fbf7f; text-decoration-color: #7fbf7f\">│   │   │   </span><span style=\"color: #008000; text-decoration-color: #008000\">'WIDTH'</span>: <span style=\"color: #008000; text-decoration-color: #008000\">'34'</span>,\n",
       "<span style=\"color: #7fbf7f; text-decoration-color: #7fbf7f\">│   │   │   </span><span style=\"color: #008000; text-decoration-color: #008000\">'L_FORE'</span>: <span style=\"color: #008000; text-decoration-color: #008000\">'210'</span>,\n",
       "<span style=\"color: #7fbf7f; text-decoration-color: #7fbf7f\">│   │   │   </span><span style=\"color: #008000; text-decoration-color: #008000\">'W_LEFT'</span>: <span style=\"color: #008000; text-decoration-color: #008000\">'21'</span>\n",
       "<span style=\"color: #7fbf7f; text-decoration-color: #7fbf7f\">│   │   </span><span style=\"font-weight: bold\">}</span>\n",
       "<span style=\"color: #7fbf7f; text-decoration-color: #7fbf7f\">│   </span><span style=\"font-weight: bold\">}</span>\n",
       "<span style=\"font-weight: bold\">]</span>\n",
       "</pre>\n"
      ],
      "text/plain": [
       "\u001b[1m[\u001b[0m\n",
       "\u001b[2;32m│   \u001b[0m\u001b[1m{\u001b[0m\n",
       "\u001b[2;32m│   │   \u001b[0m\u001b[32m'z'\u001b[0m: \u001b[32m'10'\u001b[0m,\n",
       "\u001b[2;32m│   │   \u001b[0m\u001b[32m'x'\u001b[0m: \u001b[32m'444'\u001b[0m,\n",
       "\u001b[2;32m│   │   \u001b[0m\u001b[32m'y'\u001b[0m: \u001b[32m'187'\u001b[0m,\n",
       "\u001b[2;32m│   │   \u001b[0m\u001b[32m'data'\u001b[0m: \u001b[1m{\u001b[0m\n",
       "\u001b[2;32m│   │   │   \u001b[0m\u001b[32m'LAT'\u001b[0m: \u001b[32m'43.12085'\u001b[0m,\n",
       "\u001b[2;32m│   │   │   \u001b[0m\u001b[32m'LON'\u001b[0m: \u001b[32m'132.3367'\u001b[0m,\n",
       "\u001b[2;32m│   │   │   \u001b[0m\u001b[32m'SPEED'\u001b[0m: \u001b[32m'22'\u001b[0m,\n",
       "\u001b[2;32m│   │   │   \u001b[0m\u001b[32m'COURSE'\u001b[0m: \u001b[32m'192'\u001b[0m,\n",
       "\u001b[2;32m│   │   │   \u001b[0m\u001b[32m'HEADING'\u001b[0m: \u001b[32m'38'\u001b[0m,\n",
       "\u001b[2;32m│   │   │   \u001b[0m\u001b[32m'ELAPSED'\u001b[0m: \u001b[32m'1'\u001b[0m,\n",
       "\u001b[2;32m│   │   │   \u001b[0m\u001b[32m'DESTINATION'\u001b[0m: \u001b[32m'FOR ORDER'\u001b[0m,\n",
       "\u001b[2;32m│   │   │   \u001b[0m\u001b[32m'FLAG'\u001b[0m: \u001b[32m'RU'\u001b[0m,\n",
       "\u001b[2;32m│   │   │   \u001b[0m\u001b[32m'LENGTH'\u001b[0m: \u001b[32m'130'\u001b[0m,\n",
       "\u001b[2;32m│   │   │   \u001b[0m\u001b[32m'ROT'\u001b[0m: \u001b[32m'0'\u001b[0m,\n",
       "\u001b[2;32m│   │   │   \u001b[0m\u001b[32m'SHIPNAME'\u001b[0m: \u001b[32m'PLAVUCHIY KRAN 3500'\u001b[0m,\n",
       "\u001b[2;32m│   │   │   \u001b[0m\u001b[32m'SHIPTYPE'\u001b[0m: \u001b[32m'3'\u001b[0m,\n",
       "\u001b[2;32m│   │   │   \u001b[0m\u001b[32m'SHIP_ID'\u001b[0m: \u001b[32m'7203862'\u001b[0m,\n",
       "\u001b[2;32m│   │   │   \u001b[0m\u001b[32m'WIDTH'\u001b[0m: \u001b[32m'48'\u001b[0m,\n",
       "\u001b[2;32m│   │   │   \u001b[0m\u001b[32m'L_FORE'\u001b[0m: \u001b[32m'71'\u001b[0m,\n",
       "\u001b[2;32m│   │   │   \u001b[0m\u001b[32m'W_LEFT'\u001b[0m: \u001b[32m'29'\u001b[0m,\n",
       "\u001b[2;32m│   │   │   \u001b[0m\u001b[32m'DWT'\u001b[0m: \u001b[32m'15045'\u001b[0m,\n",
       "\u001b[2;32m│   │   │   \u001b[0m\u001b[32m'GT_SHIPTYPE'\u001b[0m: \u001b[32m'127'\u001b[0m\n",
       "\u001b[2;32m│   │   \u001b[0m\u001b[1m}\u001b[0m\n",
       "\u001b[2;32m│   \u001b[0m\u001b[1m}\u001b[0m,\n",
       "\u001b[2;32m│   \u001b[0m\u001b[1m{\u001b[0m\n",
       "\u001b[2;32m│   │   \u001b[0m\u001b[32m'z'\u001b[0m: \u001b[32m'10'\u001b[0m,\n",
       "\u001b[2;32m│   │   \u001b[0m\u001b[32m'x'\u001b[0m: \u001b[32m'444'\u001b[0m,\n",
       "\u001b[2;32m│   │   \u001b[0m\u001b[32m'y'\u001b[0m: \u001b[32m'187'\u001b[0m,\n",
       "\u001b[2;32m│   │   \u001b[0m\u001b[32m'data'\u001b[0m: \u001b[1m{\u001b[0m\n",
       "\u001b[2;32m│   │   │   \u001b[0m\u001b[32m'LAT'\u001b[0m: \u001b[32m'43.22013'\u001b[0m,\n",
       "\u001b[2;32m│   │   │   \u001b[0m\u001b[32m'LON'\u001b[0m: \u001b[32m'132.3126'\u001b[0m,\n",
       "\u001b[2;32m│   │   │   \u001b[0m\u001b[32m'SPEED'\u001b[0m: \u001b[32m'18'\u001b[0m,\n",
       "\u001b[2;32m│   │   │   \u001b[0m\u001b[32m'COURSE'\u001b[0m: \u001b[32m'51'\u001b[0m,\n",
       "\u001b[2;32m│   │   │   \u001b[0m\u001b[32m'HEADING'\u001b[0m: \u001b[32m'277'\u001b[0m,\n",
       "\u001b[2;32m│   │   │   \u001b[0m\u001b[32m'ELAPSED'\u001b[0m: \u001b[32m'381'\u001b[0m,\n",
       "\u001b[2;32m│   │   │   \u001b[0m\u001b[32m'DESTINATION'\u001b[0m: \u001b[32m'CN ZOS>SUKHODOL'\u001b[0m,\n",
       "\u001b[2;32m│   │   │   \u001b[0m\u001b[32m'FLAG'\u001b[0m: \u001b[32m'PA'\u001b[0m,\n",
       "\u001b[2;32m│   │   │   \u001b[0m\u001b[32m'LENGTH'\u001b[0m: \u001b[32m'182'\u001b[0m,\n",
       "\u001b[2;32m│   │   │   \u001b[0m\u001b[32m'ROT'\u001b[0m: \u001b[32m'-33'\u001b[0m,\n",
       "\u001b[2;32m│   │   │   \u001b[0m\u001b[32m'SHIPNAME'\u001b[0m: \u001b[32m'CS FORTUNE'\u001b[0m,\n",
       "\u001b[2;32m│   │   │   \u001b[0m\u001b[32m'SHIPTYPE'\u001b[0m: \u001b[32m'7'\u001b[0m,\n",
       "\u001b[2;32m│   │   │   \u001b[0m\u001b[32m'SHIP_ID'\u001b[0m: \u001b[32m'463849'\u001b[0m,\n",
       "\u001b[2;32m│   │   │   \u001b[0m\u001b[32m'WIDTH'\u001b[0m: \u001b[32m'28'\u001b[0m,\n",
       "\u001b[2;32m│   │   │   \u001b[0m\u001b[32m'L_FORE'\u001b[0m: \u001b[32m'167'\u001b[0m,\n",
       "\u001b[2;32m│   │   │   \u001b[0m\u001b[32m'W_LEFT'\u001b[0m: \u001b[32m'13'\u001b[0m,\n",
       "\u001b[2;32m│   │   │   \u001b[0m\u001b[32m'DWT'\u001b[0m: \u001b[32m'34006'\u001b[0m,\n",
       "\u001b[2;32m│   │   │   \u001b[0m\u001b[32m'GT_SHIPTYPE'\u001b[0m: \u001b[32m'9'\u001b[0m\n",
       "\u001b[2;32m│   │   \u001b[0m\u001b[1m}\u001b[0m\n",
       "\u001b[2;32m│   \u001b[0m\u001b[1m}\u001b[0m,\n",
       "\u001b[2;32m│   \u001b[0m\u001b[1m{\u001b[0m\n",
       "\u001b[2;32m│   │   \u001b[0m\u001b[32m'z'\u001b[0m: \u001b[32m'10'\u001b[0m,\n",
       "\u001b[2;32m│   │   \u001b[0m\u001b[32m'x'\u001b[0m: \u001b[32m'444'\u001b[0m,\n",
       "\u001b[2;32m│   │   \u001b[0m\u001b[32m'y'\u001b[0m: \u001b[32m'187'\u001b[0m,\n",
       "\u001b[2;32m│   │   \u001b[0m\u001b[32m'data'\u001b[0m: \u001b[1m{\u001b[0m\n",
       "\u001b[2;32m│   │   │   \u001b[0m\u001b[32m'LAT'\u001b[0m: \u001b[32m'43.11924'\u001b[0m,\n",
       "\u001b[2;32m│   │   │   \u001b[0m\u001b[32m'LON'\u001b[0m: \u001b[32m'132.3346'\u001b[0m,\n",
       "\u001b[2;32m│   │   │   \u001b[0m\u001b[32m'SPEED'\u001b[0m: \u001b[32m'0'\u001b[0m,\n",
       "\u001b[2;32m│   │   │   \u001b[0m\u001b[32m'COURSE'\u001b[0m: \u001b[32m'0'\u001b[0m,\n",
       "\u001b[2;32m│   │   │   \u001b[0m\u001b[32m'HEADING'\u001b[0m: \u001b[3;35mNone\u001b[0m,\n",
       "\u001b[2;32m│   │   │   \u001b[0m\u001b[32m'ELAPSED'\u001b[0m: \u001b[32m'528'\u001b[0m,\n",
       "\u001b[2;32m│   │   │   \u001b[0m\u001b[32m'DESTINATION'\u001b[0m: \u001b[32m'TEST'\u001b[0m,\n",
       "\u001b[2;32m│   │   │   \u001b[0m\u001b[32m'FLAG'\u001b[0m: \u001b[32m'RU'\u001b[0m,\n",
       "\u001b[2;32m│   │   │   \u001b[0m\u001b[32m'LENGTH'\u001b[0m: \u001b[32m'257'\u001b[0m,\n",
       "\u001b[2;32m│   │   │   \u001b[0m\u001b[32m'SHIPNAME'\u001b[0m: \u001b[32m'VALENTIN PIKUL'\u001b[0m,\n",
       "\u001b[2;32m│   │   │   \u001b[0m\u001b[32m'SHIPTYPE'\u001b[0m: \u001b[32m'8'\u001b[0m,\n",
       "\u001b[2;32m│   │   │   \u001b[0m\u001b[32m'SHIP_ID'\u001b[0m: \u001b[32m'8649383'\u001b[0m,\n",
       "\u001b[2;32m│   │   │   \u001b[0m\u001b[32m'WIDTH'\u001b[0m: \u001b[32m'34'\u001b[0m,\n",
       "\u001b[2;32m│   │   │   \u001b[0m\u001b[32m'L_FORE'\u001b[0m: \u001b[32m'210'\u001b[0m,\n",
       "\u001b[2;32m│   │   │   \u001b[0m\u001b[32m'W_LEFT'\u001b[0m: \u001b[32m'21'\u001b[0m\n",
       "\u001b[2;32m│   │   \u001b[0m\u001b[1m}\u001b[0m\n",
       "\u001b[2;32m│   \u001b[0m\u001b[1m}\u001b[0m\n",
       "\u001b[1m]\u001b[0m\n"
      ]
     },
     "metadata": {},
     "output_type": "display_data"
    }
   ],
   "source": [
    "pprint(shipData[:3])"
   ]
  },
  {
   "cell_type": "code",
   "execution_count": 103,
   "metadata": {},
   "outputs": [],
   "source": [
    "def shipDataParser(shipData):\n",
    "  ships = {}\n",
    "\n",
    "  for data in shipData:\n",
    "    ship = {} | data[\"data\"]\n",
    "    ship[\"TILE_X\"] = data[\"x\"]\n",
    "    ship[\"TILE_Y\"] = data[\"y\"]\n",
    "    ship[\"TILE_Z\"] = data[\"z\"]\n",
    "\n",
    "    id = data[\"data\"][\"SHIP_ID\"]\n",
    "\n",
    "    # Keep ship with highest Z value\n",
    "    if id in ships:\n",
    "      if int(ship[\"TILE_Z\"]) > int(ships[id][\"TILE_Z\"]):\n",
    "        ships[id] = ship\n",
    "    else:\n",
    "      ships[id] = ship\n",
    "\n",
    "  return ships\n",
    "\n",
    "ships = shipDataParser(shipData)"
   ]
  },
  {
   "cell_type": "code",
   "execution_count": 104,
   "metadata": {},
   "outputs": [
    {
     "data": {
      "text/plain": [
       "954"
      ]
     },
     "execution_count": 104,
     "metadata": {},
     "output_type": "execute_result"
    }
   ],
   "source": [
    "len(ships)"
   ]
  },
  {
   "cell_type": "code",
   "execution_count": 105,
   "metadata": {},
   "outputs": [],
   "source": [
    "with open('ships_example_data.json', 'w') as f:\n",
    "    json.dump(ships, f)"
   ]
  }
 ],
 "metadata": {
  "kernelspec": {
   "display_name": "Python 3",
   "language": "python",
   "name": "python3"
  },
  "language_info": {
   "codemirror_mode": {
    "name": "ipython",
    "version": 3
   },
   "file_extension": ".py",
   "mimetype": "text/x-python",
   "name": "python",
   "nbconvert_exporter": "python",
   "pygments_lexer": "ipython3",
   "version": "3.11.10"
  }
 },
 "nbformat": 4,
 "nbformat_minor": 2
}
