{
 "cells": [
  {
   "cell_type": "code",
   "execution_count": 206,
   "metadata": {},
   "outputs": [],
   "source": [
    "from seleniumbase import Driver\n",
    "from selenium.webdriver.common.keys import Keys\n",
    "\n",
    "from rich.pretty import pprint\n",
    "import json\n",
    "import re\n",
    "import matplotlib.pyplot as plt\n",
    "import numpy as np\n",
    "import math"
   ]
  },
  {
   "cell_type": "code",
   "execution_count": 28,
   "metadata": {},
   "outputs": [],
   "source": [
    "driver =  Driver(uc=True, uc_cdp_events=True)"
   ]
  },
  {
   "cell_type": "code",
   "execution_count": 99,
   "metadata": {},
   "outputs": [],
   "source": [
    "driver.open(\n",
    "    \"https://www.marinetraffic.com/en/ais/home/centerx:132.2/centery:43.0/zoom:10\")\n",
    "driver.sleep(3)\n",
    "\n",
    "# Close cookie notice\n",
    "try:\n",
    "    driver.click('button:contains(\"AGREE\")', timeout=3)\n",
    "except Exception as e:\n",
    "    pass"
   ]
  },
  {
   "cell_type": "code",
   "execution_count": 83,
   "metadata": {},
   "outputs": [],
   "source": [
    "def urlPositionParser(url):\n",
    "    regex = r\"centerx:(\\-?\\d+(?:\\.\\d+)*)/centery:(\\-?\\d+(?:\\.\\d+)*)/zoom:(\\d+)\"\n",
    "    matches = re.findall(regex, url)\n",
    "    data = {}\n",
    "    data[\"x\"] = float(matches[0][0])\n",
    "    data[\"y\"] = float(matches[0][1])\n",
    "    data[\"zoom\"] = int(matches[0][2])\n",
    "    return data\n",
    "\n",
    "def getCurrentPosition():\n",
    "  driver.sleep(1.5)\n",
    "  return urlPositionParser(driver.current_url)"
   ]
  },
  {
   "cell_type": "code",
   "execution_count": 74,
   "metadata": {},
   "outputs": [
    {
     "data": {
      "text/plain": [
       "{'x': 131.99, 'y': 43.325, 'zoom': 12}"
      ]
     },
     "execution_count": 74,
     "metadata": {},
     "output_type": "execute_result"
    }
   ],
   "source": [
    "getCurrentPosition()"
   ]
  },
  {
   "cell_type": "code",
   "execution_count": 98,
   "metadata": {},
   "outputs": [],
   "source": [
    "# Basic movement functions\n",
    "\n",
    "def moveX(steps):\n",
    "    map = driver.find_element(\"div#map_canvas\")\n",
    "    if (steps < 0):\n",
    "        steps = abs(steps)\n",
    "        for i in range(steps):\n",
    "            map.send_keys(Keys.ARROW_LEFT)\n",
    "            driver.sleep(0.4)\n",
    "    else:\n",
    "        for i in range(steps):\n",
    "            map.send_keys(Keys.ARROW_RIGHT)\n",
    "            driver.sleep(0.4)\n",
    "\n",
    "\n",
    "def moveY(steps):\n",
    "    map = driver.find_element(\"div#map_canvas\")\n",
    "    if (steps < 0):\n",
    "        steps = abs(steps)\n",
    "        for i in range(steps):\n",
    "            map.send_keys(Keys.ARROW_DOWN)\n",
    "            driver.sleep(0.4)\n",
    "    else:\n",
    "        for i in range(steps):\n",
    "            map.send_keys(Keys.ARROW_UP)\n",
    "            driver.sleep(0.4)\n",
    "\n",
    "\n",
    "def zoomInOut(steps):\n",
    "    if (steps < 0):\n",
    "        steps = abs(steps)\n",
    "        for i in range(steps):\n",
    "            driver.click('a[title=\"Zoom out\"]')\n",
    "            driver.sleep(0.8)\n",
    "    else:\n",
    "        for i in range(steps):\n",
    "            driver.click('a[title=\"Zoom in\"]')\n",
    "            driver.sleep(0.8)\n",
    "\n",
    "\n",
    "def zoomSet(targetZoom):\n",
    "    currentZoom = getCurrentPosition()[\"zoom\"]\n",
    "    deltaZoom = targetZoom - currentZoom\n",
    "    zoomInOut(deltaZoom)"
   ]
  },
  {
   "cell_type": "code",
   "execution_count": 86,
   "metadata": {},
   "outputs": [],
   "source": [
    "def movementXCalcDelta(zoom, steps, count):\n",
    "  zoomSet(zoom)\n",
    "\n",
    "  pos = getCurrentPosition()[\"x\"]\n",
    "\n",
    "  rounds = [pos]\n",
    "  deltas = []\n",
    "\n",
    "  for i in range(count - 1):\n",
    "    moveX(steps)\n",
    "    newpos = getCurrentPosition()[\"x\"]\n",
    "    rounds.append(newpos)\n",
    "    deltas.append(newpos - pos)\n",
    "    pos = newpos\n",
    "\n",
    "  return [rounds, deltas]\n",
    "\n",
    "def movementYCalcDelta(zoom, steps, count):\n",
    "  zoomSet(zoom)\n",
    "\n",
    "  pos = getCurrentPosition()[\"y\"]\n",
    "\n",
    "  rounds = [pos]\n",
    "  deltas = []\n",
    "\n",
    "  for i in range(count - 1):\n",
    "    moveY(steps)\n",
    "    newpos = getCurrentPosition()[\"y\"]\n",
    "    rounds.append(newpos)\n",
    "    deltas.append(newpos - pos)\n",
    "    pos = newpos\n",
    "\n",
    "  return [rounds, deltas]"
   ]
  },
  {
   "cell_type": "code",
   "execution_count": 94,
   "metadata": {},
   "outputs": [],
   "source": [
    "zoomes = [5, 6, 7, 8, 9, 10, 11, 12, 13, 14]"
   ]
  },
  {
   "cell_type": "code",
   "execution_count": 100,
   "metadata": {},
   "outputs": [
    {
     "data": {
      "text/plain": [
       "[[21.1,\n",
       "  35.199999999999996,\n",
       "  35.10000000000001,\n",
       "  35.19999999999999,\n",
       "  35.099999999999994],\n",
       " [17.6, 17.6, 17.5, 17.599999999999994, 17.60000000000001],\n",
       " [8.8, 8.8, 8.799999999999997, 8.800000000000004, 8.699999999999996],\n",
       " [4.4, 4.4, 4.399999999999999, 4.400000000000002, 4.399999999999999],\n",
       " [2.1999999999999993,\n",
       "  2.200000000000001,\n",
       "  2.200000000000001,\n",
       "  2.1999999999999993,\n",
       "  2.1999999999999993],\n",
       " [1.0999999999999996,\n",
       "  1.0999999999999996,\n",
       "  1.1000000000000014,\n",
       "  1.0999999999999996,\n",
       "  1.0999999999999996],\n",
       " [0.5, 0.5999999999999996, 0.5, 0.5999999999999996, 0.5],\n",
       " [0.27500000000000036,\n",
       "  0.27399999999999913,\n",
       "  0.27500000000000036,\n",
       "  0.27500000000000036,\n",
       "  0.27399999999999913],\n",
       " [0.13700000000000045,\n",
       "  0.1379999999999999,\n",
       "  0.13700000000000045,\n",
       "  0.13699999999999868,\n",
       "  0.1379999999999999],\n",
       " [0.06900000000000084,\n",
       "  0.06799999999999962,\n",
       "  0.06899999999999906,\n",
       "  0.062000000000001165,\n",
       "  0.06799999999999962]]"
      ]
     },
     "execution_count": 100,
     "metadata": {},
     "output_type": "execute_result"
    }
   ],
   "source": [
    "dataDeltasX = []\n",
    "for zoom in zoomes:\n",
    "    driver.open(\n",
    "        \"https://www.marinetraffic.com/en/ais/home/centerx:10.0/centery:10.0/zoom:10\")\n",
    "    driver.sleep(3)\n",
    "    deltas = movementXCalcDelta(zoom, 10, 6)[1]\n",
    "    dataDeltasX.append(deltas)\n",
    "dataDeltasX"
   ]
  },
  {
   "cell_type": "code",
   "execution_count": 136,
   "metadata": {},
   "outputs": [
    {
     "data": {
      "text/plain": [
       "[[31.1, 21.299999999999997, 12.399999999999999, 7.0, 1.7000000000000028],\n",
       " [16.6, 14.5, 11.899999999999999, 9.399999999999999, 7.100000000000001],\n",
       " [8.5,\n",
       "  8.100000000000001,\n",
       "  7.600000000000001,\n",
       "  6.899999999999999,\n",
       "  6.299999999999997],\n",
       " [4.300000000000001,\n",
       "  4.199999999999999,\n",
       "  4.100000000000001,\n",
       "  4.0,\n",
       "  3.8999999999999986],\n",
       " [2.1999999999999993,\n",
       "  2.1000000000000014,\n",
       "  2.099999999999998,\n",
       "  2.1000000000000014,\n",
       "  2.1000000000000014],\n",
       " [1.0999999999999996,\n",
       "  1.0999999999999996,\n",
       "  1.0,\n",
       "  1.1000000000000014,\n",
       "  1.0999999999999996],\n",
       " [0.5, 0.5999999999999996, 0.5, 0.5999999999999996, 0.5],\n",
       " [0.2699999999999996,\n",
       "  0.2710000000000008,\n",
       "  0.2699999999999996,\n",
       "  0.26900000000000013,\n",
       "  0.2699999999999996],\n",
       " [0.1349999999999998,\n",
       "  0.1349999999999998,\n",
       "  0.136000000000001,\n",
       "  0.1349999999999998,\n",
       "  0.1349999999999998],\n",
       " [0.06799999999999962,\n",
       "  0.06700000000000017,\n",
       "  0.06799999999999962,\n",
       "  0.06700000000000017,\n",
       "  0.06799999999999962]]"
      ]
     },
     "execution_count": 136,
     "metadata": {},
     "output_type": "execute_result"
    }
   ],
   "source": [
    "dataDeltasY = []\n",
    "for zoom in zoomes:\n",
    "    driver.open(\n",
    "        \"https://www.marinetraffic.com/en/ais/home/centerx:10.0/centery:10.0/zoom:10\")\n",
    "    driver.sleep(3)\n",
    "    deltas = movementYCalcDelta(zoom, 10, 6)[1]\n",
    "    dataDeltasY.append(deltas)\n",
    "dataDeltasY"
   ]
  },
  {
   "cell_type": "code",
   "execution_count": 137,
   "metadata": {},
   "outputs": [
    {
     "data": {
      "text/plain": [
       "[35.19999999999999,\n",
       " 17.599999999999994,\n",
       " 8.800000000000004,\n",
       " 4.400000000000002,\n",
       " 2.1999999999999993,\n",
       " 1.0999999999999996,\n",
       " 0.5999999999999996,\n",
       " 0.27500000000000036,\n",
       " 0.13699999999999868,\n",
       " 0.062000000000001165]"
      ]
     },
     "execution_count": 137,
     "metadata": {},
     "output_type": "execute_result"
    }
   ],
   "source": [
    "[item[3] for item in dataDeltasX]"
   ]
  },
  {
   "cell_type": "code",
   "execution_count": 138,
   "metadata": {},
   "outputs": [
    {
     "data": {
      "text/plain": [
       "[7.0,\n",
       " 9.399999999999999,\n",
       " 6.899999999999999,\n",
       " 4.0,\n",
       " 2.1000000000000014,\n",
       " 1.1000000000000014,\n",
       " 0.5999999999999996,\n",
       " 0.26900000000000013,\n",
       " 0.1349999999999998,\n",
       " 0.06700000000000017]"
      ]
     },
     "execution_count": 138,
     "metadata": {},
     "output_type": "execute_result"
    }
   ],
   "source": [
    "[item[3] for item in dataDeltasY]"
   ]
  },
  {
   "cell_type": "code",
   "execution_count": 146,
   "metadata": {},
   "outputs": [
    {
     "data": {
      "image/png": "[encoded data removed]",
      "text/plain": [
       "<Figure size 1000x400 with 2 Axes>"
      ]
     },
     "metadata": {},
     "output_type": "display_data"
    }
   ],
   "source": [
    "fig, axs = plt.subplots(1, 2, figsize=(10, 4))\n",
    "\n",
    "fig.suptitle(\"Movement deltas\")\n",
    "\n",
    "colors = ['red', 'blue', 'green', 'orange', 'pink']\n",
    "\n",
    "axs[0].set_yscale('log')\n",
    "axs[0].set_xlabel(\"Zoom\")\n",
    "axs[0].set_ylabel(\"Delta X (log scale)\")\n",
    "\n",
    "for i in range (5):\n",
    "  axs[0].scatter(zoomes, [item[i] for item in dataDeltasX], color=colors[i])\n",
    "\n",
    "axs[1].set_yscale('log')\n",
    "axs[1].set_xlabel(\"Zoom\")\n",
    "axs[1].set_ylabel(\"Delta Y (log scale)\")\n",
    "\n",
    "for i in range (5):\n",
    "  axs[1].scatter(zoomes, [item[i] for item in dataDeltasY], color=colors[i])\n",
    "\n",
    "plt.show()"
   ]
  },
  {
   "cell_type": "code",
   "execution_count": 156,
   "metadata": {},
   "outputs": [
    {
     "data": {
      "image/png": "[encoded data removed]",
      "text/plain": [
       "<Figure size 1000x400 with 2 Axes>"
      ]
     },
     "metadata": {},
     "output_type": "display_data"
    }
   ],
   "source": [
    "fig, axs = plt.subplots(1, 2, figsize=(10, 4))\n",
    "\n",
    "fig.suptitle(\"Movement deltas\")\n",
    "\n",
    "colors = ['red', 'blue', 'green', 'orange', 'pink']\n",
    "\n",
    "axs[0].set_xlabel(\"Zoom\")\n",
    "axs[0].set_ylabel(\"Delta X\")\n",
    "\n",
    "for i in range (5):\n",
    "  axs[0].scatter(zoomes, [item[i] for item in dataDeltasX], color=colors[i])\n",
    "\n",
    "axs[1].set_xlabel(\"Zoom\")\n",
    "axs[1].set_ylabel(\"Delta Y\")\n",
    "\n",
    "for i in range (5):\n",
    "  axs[1].scatter(zoomes, [item[i] for item in dataDeltasY], color=colors[i])\n",
    "\n",
    "plt.show()"
   ]
  },
  {
   "cell_type": "code",
   "execution_count": 185,
   "metadata": {},
   "outputs": [
    {
     "data": {
      "text/plain": [
       "{5: 35.10000000000001,\n",
       " 6: 17.6,\n",
       " 7: 8.8,\n",
       " 8: 4.4,\n",
       " 9: 2.1999999999999993,\n",
       " 10: 1.0999999999999996,\n",
       " 11: 0.5,\n",
       " 12: 0.27500000000000036,\n",
       " 13: 0.13700000000000045,\n",
       " 14: 0.06799999999999962}"
      ]
     },
     "execution_count": 185,
     "metadata": {},
     "output_type": "execute_result"
    }
   ],
   "source": [
    "stepsMapX = {}\n",
    "steps = [np.median(i) for i in dataDeltasX]\n",
    "for i in range(len(steps)):\n",
    "  stepsMapX[zoomes[i]] = steps[i]\n",
    "stepsMapX"
   ]
  },
  {
   "cell_type": "code",
   "execution_count": 186,
   "metadata": {},
   "outputs": [
    {
     "data": {
      "text/plain": [
       "{5: 12.399999999999999,\n",
       " 6: 11.899999999999999,\n",
       " 7: 7.600000000000001,\n",
       " 8: 4.100000000000001,\n",
       " 9: 2.1000000000000014,\n",
       " 10: 1.0999999999999996,\n",
       " 11: 0.5,\n",
       " 12: 0.2699999999999996,\n",
       " 13: 0.1349999999999998,\n",
       " 14: 0.06799999999999962}"
      ]
     },
     "execution_count": 186,
     "metadata": {},
     "output_type": "execute_result"
    }
   ],
   "source": [
    "stepsMapY = {}\n",
    "steps = [np.median(i) for i in dataDeltasY]\n",
    "for i in range(len(steps)):\n",
    "  stepsMapY[zoomes[i]] = steps[i]\n",
    "stepsMapY"
   ]
  },
  {
   "cell_type": "code",
   "execution_count": 245,
   "metadata": {},
   "outputs": [],
   "source": [
    "def stepSelectorX(delta):\n",
    "  minSteps = None\n",
    "  suggestedStep = 0\n",
    "  for step in stepsMapX:\n",
    "    val = stepsMapX[step]\n",
    "    needSteps = math.floor(delta / val)\n",
    "    # print(f\"{delta} % {val} ({step}) = {needSteps}\")\n",
    "    if (minSteps == None or minSteps > needSteps) and needSteps != 0:\n",
    "      minSteps = needSteps\n",
    "      suggestedStep = step\n",
    "  return (suggestedStep, minSteps)\n",
    "\n",
    "def stepSelectorY(delta):\n",
    "  minSteps = None\n",
    "  suggestedStep = 0\n",
    "  for step in stepsMapY:\n",
    "    val = stepsMapY[step]\n",
    "    needSteps = math.floor(delta / val)\n",
    "    # print(f\"{delta} % {val} ({step}) = {needSteps}\")\n",
    "    if (minSteps == None or minSteps > needSteps) and needSteps != 0:\n",
    "      minSteps = needSteps\n",
    "      suggestedStep = step\n",
    "  return (suggestedStep, minSteps)"
   ]
  },
  {
   "cell_type": "code",
   "execution_count": 241,
   "metadata": {},
   "outputs": [
    {
     "name": "stdout",
     "output_type": "stream",
     "text": [
      "100 % 35.10000000000001 (5) = 2\n",
      "100 % 17.6 (6) = 5\n",
      "100 % 8.8 (7) = 11\n",
      "100 % 4.4 (8) = 22\n",
      "100 % 2.1999999999999993 (9) = 45\n",
      "100 % 1.0999999999999996 (10) = 90\n",
      "100 % 0.5 (11) = 200\n",
      "100 % 0.27500000000000036 (12) = 363\n",
      "100 % 0.13700000000000045 (13) = 729\n",
      "100 % 0.06799999999999962 (14) = 1470\n"
     ]
    },
    {
     "data": {
      "text/plain": [
       "(5, 2)"
      ]
     },
     "execution_count": 241,
     "metadata": {},
     "output_type": "execute_result"
    }
   ],
   "source": [
    "stepSelectorX(100)"
   ]
  },
  {
   "cell_type": "code",
   "execution_count": 247,
   "metadata": {},
   "outputs": [
    {
     "data": {
      "text/plain": [
       "(0, None)"
      ]
     },
     "execution_count": 247,
     "metadata": {},
     "output_type": "execute_result"
    }
   ],
   "source": [
    "stepSelectorY(0.01)"
   ]
  },
  {
   "cell_type": "code",
   "execution_count": 208,
   "metadata": {},
   "outputs": [
    {
     "data": {
      "text/plain": [
       "1.5"
      ]
     },
     "execution_count": 208,
     "metadata": {},
     "output_type": "execute_result"
    }
   ],
   "source": [
    "3 / 2"
   ]
  },
  {
   "cell_type": "code",
   "execution_count": 210,
   "metadata": {},
   "outputs": [
    {
     "data": {
      "text/plain": [
       "1.2000000000000002"
      ]
     },
     "execution_count": 210,
     "metadata": {},
     "output_type": "execute_result"
    }
   ],
   "source": [
    "3.2 % 2"
   ]
  },
  {
   "cell_type": "code",
   "execution_count": 207,
   "metadata": {},
   "outputs": [
    {
     "data": {
      "text/plain": [
       "2.0"
      ]
     },
     "execution_count": 207,
     "metadata": {},
     "output_type": "execute_result"
    }
   ],
   "source": [
    "math.fmod(12, 5)"
   ]
  },
  {
   "cell_type": "code",
   "execution_count": 250,
   "metadata": {},
   "outputs": [],
   "source": [
    "def moveToPos(targetX, targetY):\n",
    "    for i in range(20):\n",
    "        pos = getCurrentPosition()\n",
    "        poxX = pos[\"x\"]\n",
    "        poxY = pos[\"y\"]\n",
    "        deltaX = targetX - poxX\n",
    "        deltaY = targetY - poxY\n",
    "\n",
    "        calcX = stepSelectorX(deltaX)\n",
    "        calcY = stepSelectorY(deltaY)\n",
    "\n",
    "        print(f\"calcX: {calcX}\")\n",
    "        print(f\"calcY: {calcY}\")\n",
    "\n",
    "        if deltaX > 0.05 and deltaY > 0.05:\n",
    "            if calcX[0] != 0 and calcX[1] != None and calcX[1] != 0:\n",
    "                zoomSet(calcX[0])\n",
    "                moveX(calcX[1])\n",
    "            if (calcX[0] != calcY[0] and calcY[0] != 0):\n",
    "                zoomSet(calcY[0])\n",
    "            if calcY[1] != 0 and calcY[1] != None and calcY[1] != 0:\n",
    "                moveY(calcY[1])\n",
    "        else:\n",
    "            break"
   ]
  },
  {
   "cell_type": "code",
   "execution_count": 251,
   "metadata": {},
   "outputs": [
    {
     "name": "stdout",
     "output_type": "stream",
     "text": [
      "calcX: (8, 1)\n",
      "calcY: (14, 1)\n",
      "calcX: (8, 1)\n",
      "calcY: (0, None)\n",
      "calcX: (9, 1)\n",
      "calcY: (14, 1)\n",
      "calcX: (9, 1)\n",
      "calcY: (0, None)\n"
     ]
    },
    {
     "ename": "KeyboardInterrupt",
     "evalue": "",
     "output_type": "error",
     "traceback": [
      "\u001b[0;31m---------------------------------------------------------------------------\u001b[0m",
      "\u001b[0;31mKeyboardInterrupt\u001b[0m                         Traceback (most recent call last)",
      "Cell \u001b[0;32mIn[251], line 1\u001b[0m\n\u001b[0;32m----> 1\u001b[0m \u001b[43mmoveToPos\u001b[49m\u001b[43m(\u001b[49m\u001b[38;5;241;43m140\u001b[39;49m\u001b[43m,\u001b[49m\u001b[43m \u001b[49m\u001b[38;5;241;43m43\u001b[39;49m\u001b[43m)\u001b[49m\n",
      "Cell \u001b[0;32mIn[250], line 17\u001b[0m, in \u001b[0;36mmoveToPos\u001b[0;34m(targetX, targetY)\u001b[0m\n\u001b[1;32m     15\u001b[0m \u001b[38;5;28;01mif\u001b[39;00m deltaX \u001b[38;5;241m>\u001b[39m \u001b[38;5;241m0.05\u001b[39m \u001b[38;5;129;01mand\u001b[39;00m deltaY \u001b[38;5;241m>\u001b[39m \u001b[38;5;241m0.05\u001b[39m:\n\u001b[1;32m     16\u001b[0m     \u001b[38;5;28;01mif\u001b[39;00m calcX[\u001b[38;5;241m0\u001b[39m] \u001b[38;5;241m!=\u001b[39m \u001b[38;5;241m0\u001b[39m \u001b[38;5;129;01mand\u001b[39;00m calcX[\u001b[38;5;241m1\u001b[39m] \u001b[38;5;241m!=\u001b[39m \u001b[38;5;28;01mNone\u001b[39;00m \u001b[38;5;129;01mand\u001b[39;00m calcX[\u001b[38;5;241m1\u001b[39m] \u001b[38;5;241m!=\u001b[39m \u001b[38;5;241m0\u001b[39m:\n\u001b[0;32m---> 17\u001b[0m         \u001b[43mzoomSet\u001b[49m\u001b[43m(\u001b[49m\u001b[43mcalcX\u001b[49m\u001b[43m[\u001b[49m\u001b[38;5;241;43m0\u001b[39;49m\u001b[43m]\u001b[49m\u001b[43m)\u001b[49m\n\u001b[1;32m     18\u001b[0m         moveX(calcX[\u001b[38;5;241m1\u001b[39m])\n\u001b[1;32m     19\u001b[0m     \u001b[38;5;28;01mif\u001b[39;00m (calcX[\u001b[38;5;241m0\u001b[39m] \u001b[38;5;241m!=\u001b[39m calcY[\u001b[38;5;241m0\u001b[39m] \u001b[38;5;129;01mand\u001b[39;00m calcY[\u001b[38;5;241m0\u001b[39m] \u001b[38;5;241m!=\u001b[39m \u001b[38;5;241m0\u001b[39m):\n",
      "Cell \u001b[0;32mIn[98], line 42\u001b[0m, in \u001b[0;36mzoomSet\u001b[0;34m(targetZoom)\u001b[0m\n\u001b[1;32m     41\u001b[0m \u001b[38;5;28;01mdef\u001b[39;00m \u001b[38;5;21mzoomSet\u001b[39m(targetZoom):\n\u001b[0;32m---> 42\u001b[0m     currentZoom \u001b[38;5;241m=\u001b[39m \u001b[43mgetCurrentPosition\u001b[49m\u001b[43m(\u001b[49m\u001b[43m)\u001b[49m[\u001b[38;5;124m\"\u001b[39m\u001b[38;5;124mzoom\u001b[39m\u001b[38;5;124m\"\u001b[39m]\n\u001b[1;32m     43\u001b[0m     deltaZoom \u001b[38;5;241m=\u001b[39m targetZoom \u001b[38;5;241m-\u001b[39m currentZoom\n\u001b[1;32m     44\u001b[0m     zoomInOut(deltaZoom)\n",
      "Cell \u001b[0;32mIn[83], line 11\u001b[0m, in \u001b[0;36mgetCurrentPosition\u001b[0;34m()\u001b[0m\n\u001b[1;32m     10\u001b[0m \u001b[38;5;28;01mdef\u001b[39;00m \u001b[38;5;21mgetCurrentPosition\u001b[39m():\n\u001b[0;32m---> 11\u001b[0m   driver\u001b[38;5;241m.\u001b[39msleep(\u001b[38;5;241m1.5\u001b[39m)\n\u001b[1;32m     12\u001b[0m   \u001b[38;5;28;01mreturn\u001b[39;00m urlPositionParser(driver\u001b[38;5;241m.\u001b[39mcurrent_url)\n",
      "\u001b[0;31mKeyboardInterrupt\u001b[0m: "
     ]
    }
   ],
   "source": [
    "moveToPos(140, 43)"
   ]
  }
 ],
 "metadata": {
  "kernelspec": {
   "display_name": "Python 3",
   "language": "python",
   "name": "python3"
  },
  "language_info": {
   "codemirror_mode": {
    "name": "ipython",
    "version": 3
   },
   "file_extension": ".py",
   "mimetype": "text/x-python",
   "name": "python",
   "nbconvert_exporter": "python",
   "pygments_lexer": "ipython3",
   "version": "3.11.10"
  }
 },
 "nbformat": 4,
 "nbformat_minor": 2
}
