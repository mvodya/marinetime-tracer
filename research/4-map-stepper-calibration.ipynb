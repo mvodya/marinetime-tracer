{
 "cells": [
  {
   "cell_type": "code",
   "execution_count": 1,
   "metadata": {},
   "outputs": [],
   "source": [
    "from seleniumbase import Driver\n",
    "from selenium.webdriver.common.keys import Keys\n",
    "\n",
    "from rich.pretty import pprint\n",
    "import json\n",
    "import re\n",
    "import matplotlib.pyplot as plt\n",
    "import numpy as np\n",
    "import math"
   ]
  },
  {
   "cell_type": "code",
   "execution_count": 21,
   "metadata": {},
   "outputs": [],
   "source": [
    "driver =  Driver(uc=True, uc_cdp_events=True)"
   ]
  },
  {
   "cell_type": "code",
   "execution_count": 22,
   "metadata": {},
   "outputs": [],
   "source": [
    "driver.open(\n",
    "    \"https://www.marinetraffic.com/en/ais/home/centerx:132.2/centery:43.0/zoom:10\")\n",
    "driver.sleep(3)\n",
    "\n",
    "# Close cookie notice\n",
    "try:\n",
    "    driver.click('button:contains(\"AGREE\")', timeout=3)\n",
    "except Exception as e:\n",
    "    pass"
   ]
  },
  {
   "cell_type": "code",
   "execution_count": 5,
   "metadata": {},
   "outputs": [],
   "source": [
    "def urlPositionParser(url):\n",
    "    regex = r\"centerx:(\\-?\\d+(?:\\.\\d+)*)/centery:(\\-?\\d+(?:\\.\\d+)*)/zoom:(\\d+)\"\n",
    "    matches = re.findall(regex, url)\n",
    "    data = {}\n",
    "    data[\"x\"] = float(matches[0][0])\n",
    "    data[\"y\"] = float(matches[0][1])\n",
    "    data[\"zoom\"] = int(matches[0][2])\n",
    "    return data\n",
    "\n",
    "def getCurrentPosition():\n",
    "  driver.sleep(1.5)\n",
    "  return urlPositionParser(driver.current_url)"
   ]
  },
  {
   "cell_type": "code",
   "execution_count": 6,
   "metadata": {},
   "outputs": [],
   "source": [
    "zoomes = [5, 6, 7, 8, 9, 10, 11, 12, 13, 14]"
   ]
  },
  {
   "cell_type": "code",
   "execution_count": 7,
   "metadata": {},
   "outputs": [
    {
     "data": {
      "text/plain": [
       "{'x': 132.2, 'y': 43.0, 'zoom': 10}"
      ]
     },
     "execution_count": 7,
     "metadata": {},
     "output_type": "execute_result"
    }
   ],
   "source": [
    "getCurrentPosition()"
   ]
  },
  {
   "cell_type": "code",
   "execution_count": 8,
   "metadata": {},
   "outputs": [],
   "source": [
    "# Basic movement functions\n",
    "\n",
    "def moveX(steps):\n",
    "    map = driver.find_element(\"div#map_canvas\")\n",
    "    if (steps < 0):\n",
    "        steps = abs(steps)\n",
    "        for i in range(steps):\n",
    "            map.send_keys(Keys.ARROW_LEFT)\n",
    "            driver.sleep(0.4)\n",
    "    else:\n",
    "        for i in range(steps):\n",
    "            map.send_keys(Keys.ARROW_RIGHT)\n",
    "            driver.sleep(0.4)\n",
    "\n",
    "\n",
    "def moveY(steps):\n",
    "    map = driver.find_element(\"div#map_canvas\")\n",
    "    if (steps < 0):\n",
    "        steps = abs(steps)\n",
    "        for i in range(steps):\n",
    "            map.send_keys(Keys.ARROW_DOWN)\n",
    "            driver.sleep(0.4)\n",
    "    else:\n",
    "        for i in range(steps):\n",
    "            map.send_keys(Keys.ARROW_UP)\n",
    "            driver.sleep(0.4)\n",
    "\n",
    "\n",
    "def zoomInOut(steps):\n",
    "    if (steps < 0):\n",
    "        steps = abs(steps)\n",
    "        for i in range(steps):\n",
    "            driver.click('a[title=\"Zoom out\"]')\n",
    "            driver.sleep(0.8)\n",
    "    else:\n",
    "        for i in range(steps):\n",
    "            driver.click('a[title=\"Zoom in\"]')\n",
    "            driver.sleep(0.8)\n",
    "\n",
    "\n",
    "def zoomSet(targetZoom):\n",
    "    currentZoom = getCurrentPosition()[\"zoom\"]\n",
    "    deltaZoom = targetZoom - currentZoom\n",
    "    zoomInOut(deltaZoom)"
   ]
  },
  {
   "cell_type": "code",
   "execution_count": 9,
   "metadata": {},
   "outputs": [],
   "source": [
    "def movementXCalcDelta(zoom, steps):\n",
    "  zoomSet(zoom)\n",
    "\n",
    "  pos = getCurrentPosition()[\"x\"]\n",
    "\n",
    "  deltas = []\n",
    "\n",
    "  for i in range(steps):\n",
    "    moveX(1)\n",
    "    newpos = getCurrentPosition()[\"x\"]\n",
    "    delta = newpos - pos\n",
    "    if delta != 0:\n",
    "      deltas.append(delta)\n",
    "      pos = newpos\n",
    "\n",
    "  return deltas\n",
    "\n",
    "def movementYCalcDelta(zoom, steps):\n",
    "  zoomSet(zoom)\n",
    "\n",
    "  pos = getCurrentPosition()[\"y\"]\n",
    "\n",
    "  deltas = []\n",
    "\n",
    "  for i in range(steps):\n",
    "    moveY(1)\n",
    "    newpos = getCurrentPosition()[\"y\"]\n",
    "    delta = newpos - pos\n",
    "    if delta != 0:\n",
    "      deltas.append(delta)\n",
    "      pos = newpos\n",
    "\n",
    "  return deltas"
   ]
  },
  {
   "cell_type": "code",
   "execution_count": null,
   "metadata": {},
   "outputs": [],
   "source": [
    "dataDeltasX = []\n",
    "for zoom in zoomes:\n",
    "    driver.open(\n",
    "        \"https://www.marinetraffic.com/en/ais/home/centerx:10.0/centery:10.0/zoom:10\")\n",
    "    driver.sleep(3)\n",
    "    deltas = movementXCalcDelta(zoom, 5)\n",
    "    dataDeltasX.append(deltas)\n",
    "dataDeltasX"
   ]
  },
  {
   "cell_type": "code",
   "execution_count": null,
   "metadata": {},
   "outputs": [],
   "source": [
    "dataDeltasY = []\n",
    "for zoom in zoomes:\n",
    "    driver.open(\n",
    "        \"https://www.marinetraffic.com/en/ais/home/centerx:10.0/centery:10.0/zoom:10\")\n",
    "    driver.sleep(3)\n",
    "    deltas = movementYCalcDelta(zoom, 5)\n",
    "    dataDeltasY.append(deltas)\n",
    "dataDeltasY"
   ]
  },
  {
   "cell_type": "code",
   "execution_count": 33,
   "metadata": {},
   "outputs": [
    {
     "data": {
      "text/plain": [
       "[3.5200000000000005,\n",
       " 1.7600000000000002,\n",
       " 0.8800000000000001,\n",
       " 0.43999999999999984,\n",
       " 0.21999999999999992,\n",
       " 0.1,\n",
       " 0.10000000000000024,\n",
       " 0.02740000000000009,\n",
       " 0.013800000000000168,\n",
       " 0.006800000000000139]"
      ]
     },
     "execution_count": 33,
     "metadata": {},
     "output_type": "execute_result"
    }
   ],
   "source": [
    "[np.mean(item) for item in dataDeltasX]"
   ]
  },
  {
   "cell_type": "code",
   "execution_count": 35,
   "metadata": {},
   "outputs": [
    {
     "data": {
      "text/plain": [
       "[3.3200000000000003,\n",
       " 1.7,\n",
       " 0.8600000000000001,\n",
       " 0.43999999999999984,\n",
       " 0.21999999999999992,\n",
       " 0.1,\n",
       " 0.10000000000000024,\n",
       " 0.026999999999999958,\n",
       " 0.013599999999999923,\n",
       " 0.006800000000000139]"
      ]
     },
     "execution_count": 35,
     "metadata": {},
     "output_type": "execute_result"
    }
   ],
   "source": [
    "[np.mean(item) for item in dataDeltasY]"
   ]
  },
  {
   "cell_type": "code",
   "execution_count": 45,
   "metadata": {},
   "outputs": [
    {
     "data": {
      "text/plain": [
       "array([10, 10, 10, 10, 10, 10, 10, 10, 10, 10])"
      ]
     },
     "execution_count": 45,
     "metadata": {},
     "output_type": "execute_result"
    }
   ],
   "source": [
    "np.full(10, 10)"
   ]
  },
  {
   "cell_type": "code",
   "execution_count": 52,
   "metadata": {},
   "outputs": [
    {
     "data": {
      "image/png": "[encoded data removed]",
      "text/plain": [
       "<Figure size 1000x400 with 2 Axes>"
      ]
     },
     "metadata": {},
     "output_type": "display_data"
    }
   ],
   "source": [
    "fig, axs = plt.subplots(1, 2, figsize=(10, 4))\n",
    "\n",
    "fig.suptitle(\"Movement deltas\")\n",
    "\n",
    "axs[0].set_yscale('log')\n",
    "axs[0].set_xlabel(\"Zoom\")\n",
    "axs[0].set_ylabel(\"Delta X (log scale)\")\n",
    "axs[0].set_xticks(zoomes, labels=zoomes)\n",
    "\n",
    "for v in range(len(zoomes)):\n",
    "  zoom = zoomes[v]\n",
    "  deltas = dataDeltasX[v]\n",
    "  axs[0].scatter(np.full(len(deltas), zoom), deltas)\n",
    "\n",
    "axs[1].set_yscale('log')\n",
    "axs[1].set_xlabel(\"Zoom\")\n",
    "axs[1].set_ylabel(\"Delta Y (log scale)\")\n",
    "axs[1].set_xticks(zoomes, labels=zoomes)\n",
    "\n",
    "for v in range(len(zoomes)):\n",
    "  zoom = zoomes[v]\n",
    "  deltas = dataDeltasY[v]\n",
    "  axs[1].scatter(np.full(len(deltas), zoom), deltas)\n",
    "\n",
    "plt.show()"
   ]
  },
  {
   "cell_type": "code",
   "execution_count": 53,
   "metadata": {},
   "outputs": [
    {
     "data": {
      "image/png": "[encoded data removed]",
      "text/plain": [
       "<Figure size 1000x400 with 2 Axes>"
      ]
     },
     "metadata": {},
     "output_type": "display_data"
    }
   ],
   "source": [
    "fig, axs = plt.subplots(1, 2, figsize=(10, 4))\n",
    "\n",
    "fig.suptitle(\"Movement deltas\")\n",
    "\n",
    "axs[0].set_xlabel(\"Zoom\")\n",
    "axs[0].set_ylabel(\"Delta X\")\n",
    "axs[0].set_xticks(zoomes, labels=zoomes)\n",
    "\n",
    "for v in range(len(zoomes)):\n",
    "  zoom = zoomes[v]\n",
    "  deltas = dataDeltasX[v]\n",
    "  axs[0].scatter(np.full(len(deltas), zoom), deltas)\n",
    "\n",
    "axs[1].set_xlabel(\"Zoom\")\n",
    "axs[1].set_ylabel(\"Delta Y\")\n",
    "axs[1].set_xticks(zoomes, labels=zoomes)\n",
    "\n",
    "for v in range(len(zoomes)):\n",
    "  zoom = zoomes[v]\n",
    "  deltas = dataDeltasY[v]\n",
    "  axs[1].scatter(np.full(len(deltas), zoom), deltas)\n",
    "\n",
    "plt.show()"
   ]
  },
  {
   "cell_type": "code",
   "execution_count": null,
   "metadata": {},
   "outputs": [],
   "source": [
    "stepsMapX = {}\n",
    "steps = [np.median(i) for i in dataDeltasX]\n",
    "for v in range(len(steps)):\n",
    "  stepsMapX[zoomes[v]] = steps[v]\n",
    "stepsMapX"
   ]
  },
  {
   "cell_type": "code",
   "execution_count": null,
   "metadata": {},
   "outputs": [],
   "source": [
    "stepsMapY = {}\n",
    "steps = [np.median(i) for i in dataDeltasY]\n",
    "for v in range(len(steps)):\n",
    "  stepsMapY[zoomes[v]] = steps[v]\n",
    "stepsMapY"
   ]
  },
  {
   "cell_type": "code",
   "execution_count": 13,
   "metadata": {},
   "outputs": [],
   "source": [
    "stepsMapX = {5: 3.5,\n",
    " 6: 1.8000000000000007,\n",
    " 7: 0.9000000000000004,\n",
    " 8: 0.40000000000000036,\n",
    " 9: 0.20000000000000107,\n",
    " 10: 0.09999999999999964,\n",
    " 11: 0.09999999999999964,\n",
    " 12: 0.027000000000001023,\n",
    " 13: 0.013999999999999346,\n",
    " 14: 0.006999999999999673}\n",
    "\n",
    "stepsMapY = {5: 3.3999999999999986,\n",
    " 6: 1.6999999999999993,\n",
    " 7: 0.9000000000000004,\n",
    " 8: 0.40000000000000036,\n",
    " 9: 0.1999999999999993,\n",
    " 10: 0.09999999999999964,\n",
    " 11: 0.09999999999999964,\n",
    " 12: 0.026999999999999247,\n",
    " 13: 0.013999999999999346,\n",
    " 14: 0.006999999999999673}"
   ]
  },
  {
   "cell_type": "code",
   "execution_count": 80,
   "metadata": {},
   "outputs": [],
   "source": [
    "def stepSelectorX(delta):\n",
    "  minSteps = None\n",
    "  suggestedStep = 0\n",
    "  for step in stepsMapX:\n",
    "    val = stepsMapX[step]\n",
    "    needSteps = math.floor(abs(delta) / val)\n",
    "    # print(f\"{delta} % {val} ({step}) = {needSteps}\")\n",
    "    if (minSteps == None or minSteps > needSteps) and needSteps != 0:\n",
    "      minSteps = needSteps\n",
    "      suggestedStep = step\n",
    "  return (suggestedStep, minSteps if delta > 0 else -minSteps)\n",
    "\n",
    "def stepSelectorY(delta):\n",
    "  minSteps = None\n",
    "  suggestedStep = 0\n",
    "  for step in stepsMapY:\n",
    "    val = stepsMapY[step]\n",
    "    needSteps = math.floor(abs(delta / val))\n",
    "    # print(f\"{delta} % {val} ({step}) = {needSteps}\")\n",
    "    if (minSteps == None or minSteps > needSteps) and needSteps != 0:\n",
    "      minSteps = needSteps\n",
    "      suggestedStep = step\n",
    "  return (suggestedStep, minSteps if delta > 0 else -minSteps)"
   ]
  },
  {
   "cell_type": "code",
   "execution_count": 78,
   "metadata": {},
   "outputs": [
    {
     "data": {
      "text/plain": [
       "(10, 2)"
      ]
     },
     "execution_count": 78,
     "metadata": {},
     "output_type": "execute_result"
    }
   ],
   "source": [
    "stepSelectorX(0.2)"
   ]
  },
  {
   "cell_type": "code",
   "execution_count": 65,
   "metadata": {},
   "outputs": [
    {
     "data": {
      "text/plain": [
       "(5, -3)"
      ]
     },
     "execution_count": 65,
     "metadata": {},
     "output_type": "execute_result"
    }
   ],
   "source": [
    "stepSelectorX(-10)"
   ]
  },
  {
   "cell_type": "code",
   "execution_count": 67,
   "metadata": {},
   "outputs": [],
   "source": [
    "def cmdGenX(target):\n",
    "  cmds = []\n",
    "  acc = 0\n",
    "\n",
    "  while abs(target - acc) > 0.05:\n",
    "      print(abs(target - acc))\n",
    "      dcc = target - acc\n",
    "      cmd = stepSelectorX(dcc)\n",
    "      if cmd[0] == 0 or cmd[1] == None:\n",
    "          break\n",
    "      # (-1 if target < 0 else 1)\n",
    "      acc += stepsMapX[cmd[0]] * cmd[1]\n",
    "      cmds.append(cmd)\n",
    "\n",
    "  return cmds\n",
    "\n",
    "def cmdGenY(target):\n",
    "  cmds = []\n",
    "  acc = 0\n",
    "\n",
    "  while abs(target - acc) > 0.05:\n",
    "      dcc = abs(target - acc)\n",
    "      cmd = stepSelectorY(dcc)\n",
    "      if cmd[0] == 0 or cmd[1] == None:\n",
    "          break\n",
    "      acc += stepsMapY[cmd[0]] * cmd[1]\n",
    "      cmds.append(cmd)\n",
    "\n",
    "  return cmds"
   ]
  },
  {
   "cell_type": "code",
   "execution_count": 81,
   "metadata": {},
   "outputs": [
    {
     "data": {
      "text/plain": [
       "(10, -2)"
      ]
     },
     "execution_count": 81,
     "metadata": {},
     "output_type": "execute_result"
    }
   ],
   "source": [
    "stepSelectorX(-0.2)"
   ]
  },
  {
   "cell_type": "code",
   "execution_count": 82,
   "metadata": {},
   "outputs": [
    {
     "name": "stdout",
     "output_type": "stream",
     "text": [
      "0.2\n"
     ]
    },
    {
     "data": {
      "text/plain": [
       "[(10, -2)]"
      ]
     },
     "execution_count": 82,
     "metadata": {},
     "output_type": "execute_result"
    }
   ],
   "source": [
    "cmdGenX(-0.2)"
   ]
  },
  {
   "cell_type": "code",
   "execution_count": 69,
   "metadata": {},
   "outputs": [
    {
     "name": "stdout",
     "output_type": "stream",
     "text": [
      "0.2\n"
     ]
    },
    {
     "data": {
      "text/plain": [
       "[(10, 2)]"
      ]
     },
     "execution_count": 69,
     "metadata": {},
     "output_type": "execute_result"
    }
   ],
   "source": [
    "cmdGenX(0.2)"
   ]
  },
  {
   "cell_type": "code",
   "execution_count": 68,
   "metadata": {},
   "outputs": [
    {
     "data": {
      "text/plain": [
       "[(5, 28), (6, 1), (9, 1)]"
      ]
     },
     "execution_count": 68,
     "metadata": {},
     "output_type": "execute_result"
    }
   ],
   "source": [
    "cmdGenX(100)"
   ]
  },
  {
   "cell_type": "code",
   "execution_count": 71,
   "metadata": {},
   "outputs": [
    {
     "data": {
      "text/plain": [
       "9.481000000000005"
      ]
     },
     "execution_count": 71,
     "metadata": {},
     "output_type": "execute_result"
    }
   ],
   "source": [
    "# Control delta\n",
    "np.sum([stepsMapX[x[0]] * x[1] for x in cmdGenX(9.5)])"
   ]
  },
  {
   "cell_type": "code",
   "execution_count": 72,
   "metadata": {},
   "outputs": [
    {
     "data": {
      "text/plain": [
       "30"
      ]
     },
     "execution_count": 72,
     "metadata": {},
     "output_type": "execute_result"
    }
   ],
   "source": [
    "# Steps\n",
    "np.sum([cmd[1] for cmd in cmdGenX(100)])"
   ]
  },
  {
   "cell_type": "code",
   "execution_count": 73,
   "metadata": {},
   "outputs": [
    {
     "data": {
      "text/plain": [
       "[(5, 29), (7, 1), (8, 1), (10, 1)]"
      ]
     },
     "execution_count": 73,
     "metadata": {},
     "output_type": "execute_result"
    }
   ],
   "source": [
    "cmdGenY(100)"
   ]
  },
  {
   "cell_type": "code",
   "execution_count": 76,
   "metadata": {},
   "outputs": [
    {
     "data": {
      "text/plain": [
       "99.99999999999997"
      ]
     },
     "execution_count": 76,
     "metadata": {},
     "output_type": "execute_result"
    }
   ],
   "source": [
    "# Control delta\n",
    "np.sum([stepsMapY[y[0]] * y[1] for y in cmdGenY(100)])"
   ]
  },
  {
   "cell_type": "code",
   "execution_count": 77,
   "metadata": {},
   "outputs": [
    {
     "data": {
      "text/plain": [
       "32"
      ]
     },
     "execution_count": 77,
     "metadata": {},
     "output_type": "execute_result"
    }
   ],
   "source": [
    "# Steps\n",
    "np.sum([cmd[1] for cmd in cmdGenY(100)])"
   ]
  },
  {
   "cell_type": "code",
   "execution_count": 16,
   "metadata": {},
   "outputs": [],
   "source": [
    "def mergeCmds(cmdsX, cmdsY):\n",
    "  cmds = {}\n",
    "  for zoom in zoomes:\n",
    "    cX = [x for x in cmdsX if x[0] == zoom]\n",
    "    cY = [y for y in cmdsY if y[0] == zoom]\n",
    "    cmds[zoom] = (cX, cY)\n",
    "  return [v for k, v in cmds.items() if not(v[0] == [] and v[1] == [])]"
   ]
  },
  {
   "cell_type": "code",
   "execution_count": 79,
   "metadata": {},
   "outputs": [
    {
     "data": {
      "text/plain": [
       "[(5, -15), (7, 1), (12, 3)]"
      ]
     },
     "execution_count": 79,
     "metadata": {},
     "output_type": "execute_result"
    }
   ],
   "source": [
    "cmdGenY(-50)"
   ]
  },
  {
   "cell_type": "code",
   "execution_count": 80,
   "metadata": {},
   "outputs": [
    {
     "data": {
      "text/plain": [
       "[([(5, -29)], [(5, 14)]),\n",
       " ([], [(6, 1)]),\n",
       " ([(7, 1)], []),\n",
       " ([(8, 1)], [(8, 1)]),\n",
       " ([], [(9, 1)]),\n",
       " ([(10, 1)], [(10, 1)]),\n",
       " ([(12, 3)], [])]"
      ]
     },
     "execution_count": 80,
     "metadata": {},
     "output_type": "execute_result"
    }
   ],
   "source": [
    "mergeCmds(cmdGenX(-100), cmdGenY(50))"
   ]
  },
  {
   "cell_type": "code",
   "execution_count": 166,
   "metadata": {},
   "outputs": [
    {
     "data": {
      "text/plain": [
       "{5: 3.5,\n",
       " 6: 1.8000000000000007,\n",
       " 7: 0.9000000000000004,\n",
       " 8: 0.40000000000000036,\n",
       " 9: 0.20000000000000107,\n",
       " 10: 0.09999999999999964,\n",
       " 11: 0.09999999999999964,\n",
       " 12: 0.027000000000001023,\n",
       " 13: 0.013999999999999346,\n",
       " 14: 0.006999999999999673}"
      ]
     },
     "execution_count": 166,
     "metadata": {},
     "output_type": "execute_result"
    }
   ],
   "source": [
    "stepsMapX"
   ]
  },
  {
   "cell_type": "code",
   "execution_count": 29,
   "metadata": {},
   "outputs": [],
   "source": [
    "def moveToPos(targetX, targetY, zoom=None):\n",
    "    pos = getCurrentPosition()\n",
    "    deltaX = targetX - pos[\"x\"]\n",
    "    deltaY = targetY - pos[\"y\"]\n",
    "    print(f\"Delta for movement: x:{deltaX} y:{deltaY}\")\n",
    "    cmdsX = cmdGenX(deltaX)\n",
    "    cmdsY = cmdGenY(deltaY)\n",
    "\n",
    "    lastZoom = None\n",
    "\n",
    "    cmds = mergeCmds(cmdsX, cmdsY)\n",
    "    for cmdN, cmd in enumerate(cmds):\n",
    "        print(f\"Commands: {cmds}\")\n",
    "        xsteps = cmd[0]\n",
    "        ysteps = cmd[1]\n",
    "        for xstep in xsteps:\n",
    "            if lastZoom != xstep[0]:\n",
    "                zoomSet(xstep[0])\n",
    "                lastZoom = xstep[0]\n",
    "            err = 0\n",
    "            currentPos = getCurrentPosition()\n",
    "            controlPos = currentPos[\"x\"] + stepsMapX[xstep[0]] * xstep[1]\n",
    "            for tries in range(3):\n",
    "                correction = int(err / stepsMapX[xstep[0]])\n",
    "                moveX(xstep[1] if tries == 0 else correction)\n",
    "                newPos = getCurrentPosition()\n",
    "                err = newPos[\"x\"] - controlPos\n",
    "                print(\n",
    "                    f\"controlPos: {controlPos} / newPos.x: {newPos['x']} / err: {err} (max: {stepsMapX[xstep[0]] * 1.1})\")\n",
    "                if (abs(err) < stepsMapX[xstep[0]] * 1.1):\n",
    "                    break\n",
    "                else:\n",
    "                    if tries == 0:\n",
    "                        print(\n",
    "                            f\"Miss position with movement in X axis, try to fix. controlPos: {controlPos} / newPos.x: {newPos['x']} / err: {err} (max: {stepsMapX[xstep[0]] * 1.5})\")\n",
    "        for ystep in ysteps:\n",
    "            if lastZoom != ystep[0]:\n",
    "                zoomSet(ystep[0])\n",
    "                lastZoom = ystep[0]\n",
    "            err = 0\n",
    "            currentPos = getCurrentPosition()\n",
    "            controlPos = currentPos[\"y\"] + stepsMapY[ystep[0]] * ystep[1]\n",
    "            for tries in range(3):\n",
    "                correction = int(err / stepsMapY[ystep[0]])\n",
    "                moveY(ystep[1] if tries == 0 else correction)\n",
    "                newPos = getCurrentPosition()\n",
    "                err = newPos[\"y\"] - controlPos\n",
    "                print(\n",
    "                    f\"controlPos: {controlPos} / newPos.y: {newPos['y']} / err: {err} (max: {stepsMapY[ystep[0]] * 1.1})\")\n",
    "                if (abs(err) < stepsMapY[ystep[0]] * 1.1):\n",
    "                    break\n",
    "                else:\n",
    "                    if tries == 0:\n",
    "                        print(\n",
    "                            f\"Miss position with movement in Y axis, try to fix. controlPos: {controlPos} / newPos.y: {newPos['y']} / err: {err} (max: {stepsMapY[ystep[0]] * 1.5})\")\n",
    "        # Correct commands\n",
    "        # pos = getCurrentPosition()\n",
    "        # deltaX = targetX - pos[\"x\"]\n",
    "        # deltaY = targetY - pos[\"y\"]\n",
    "        # cmdsX = cmdGenX(deltaX)\n",
    "        # cmdsY = cmdGenY(deltaY)\n",
    "        # cmds = cmds[:cmdN + 1] + mergeCmds(cmdsX, cmdsY)\n",
    "    if zoom != None:\n",
    "        zoomSet(zoom)"
   ]
  },
  {
   "cell_type": "code",
   "execution_count": 33,
   "metadata": {},
   "outputs": [
    {
     "data": {
      "text/plain": [
       "[(5, -1), (6, 1), (7, 1), (8, 1), (10, 1), (12, 3)]"
      ]
     },
     "execution_count": 33,
     "metadata": {},
     "output_type": "execute_result"
    }
   ],
   "source": [
    "cmdGenX(-0.2)"
   ]
  },
  {
   "cell_type": "code",
   "execution_count": 31,
   "metadata": {},
   "outputs": [
    {
     "name": "stdout",
     "output_type": "stream",
     "text": [
      "Delta for movement: x:-0.19999999999998863 y:0.0\n",
      "Commands: [([(5, -1)], []), ([(6, 1)], []), ([(7, 1)], []), ([(8, 1)], []), ([(9, 1)], [])]\n",
      "controlPos: 128.7 / newPos.x: 128.7 / err: 0.0 (max: 3.8500000000000005)\n",
      "Commands: [([(5, -1)], []), ([(6, 1)], []), ([(7, 1)], []), ([(8, 1)], []), ([(9, 1)], [])]\n",
      "controlPos: 130.5 / newPos.x: 130.4 / err: -0.09999999999999432 (max: 1.9800000000000009)\n",
      "Commands: [([(5, -1)], []), ([(6, 1)], []), ([(7, 1)], []), ([(8, 1)], []), ([(9, 1)], []), ([(12, 3)], [])]\n",
      "controlPos: 131.3 / newPos.x: 131.3 / err: 0.0 (max: 0.9900000000000004)\n",
      "Commands: [([(5, -1)], []), ([(6, 1)], []), ([(7, 1)], []), ([(8, 1)], []), ([(9, 1)], []), ([(12, 3)], [])]\n"
     ]
    },
    {
     "ename": "KeyboardInterrupt",
     "evalue": "",
     "output_type": "error",
     "traceback": [
      "\u001b[0;31m---------------------------------------------------------------------------\u001b[0m",
      "\u001b[0;31mKeyboardInterrupt\u001b[0m                         Traceback (most recent call last)",
      "Cell \u001b[0;32mIn[31], line 1\u001b[0m\n\u001b[0;32m----> 1\u001b[0m \u001b[43mmoveToPos\u001b[49m\u001b[43m(\u001b[49m\u001b[38;5;241;43m132.0\u001b[39;49m\u001b[43m,\u001b[49m\u001b[43m \u001b[49m\u001b[38;5;241;43m43.1\u001b[39;49m\u001b[43m,\u001b[49m\u001b[43m \u001b[49m\u001b[38;5;241;43m11\u001b[39;49m\u001b[43m)\u001b[49m\n",
      "Cell \u001b[0;32mIn[29], line 21\u001b[0m, in \u001b[0;36mmoveToPos\u001b[0;34m(targetX, targetY, zoom)\u001b[0m\n\u001b[1;32m     19\u001b[0m     lastZoom \u001b[38;5;241m=\u001b[39m xstep[\u001b[38;5;241m0\u001b[39m]\n\u001b[1;32m     20\u001b[0m err \u001b[38;5;241m=\u001b[39m \u001b[38;5;241m0\u001b[39m\n\u001b[0;32m---> 21\u001b[0m currentPos \u001b[38;5;241m=\u001b[39m \u001b[43mgetCurrentPosition\u001b[49m\u001b[43m(\u001b[49m\u001b[43m)\u001b[49m\n\u001b[1;32m     22\u001b[0m controlPos \u001b[38;5;241m=\u001b[39m currentPos[\u001b[38;5;124m\"\u001b[39m\u001b[38;5;124mx\u001b[39m\u001b[38;5;124m\"\u001b[39m] \u001b[38;5;241m+\u001b[39m stepsMapX[xstep[\u001b[38;5;241m0\u001b[39m]] \u001b[38;5;241m*\u001b[39m xstep[\u001b[38;5;241m1\u001b[39m]\n\u001b[1;32m     23\u001b[0m \u001b[38;5;28;01mfor\u001b[39;00m tries \u001b[38;5;129;01min\u001b[39;00m \u001b[38;5;28mrange\u001b[39m(\u001b[38;5;241m3\u001b[39m):\n",
      "Cell \u001b[0;32mIn[5], line 11\u001b[0m, in \u001b[0;36mgetCurrentPosition\u001b[0;34m()\u001b[0m\n\u001b[1;32m     10\u001b[0m \u001b[38;5;28;01mdef\u001b[39;00m \u001b[38;5;21mgetCurrentPosition\u001b[39m():\n\u001b[0;32m---> 11\u001b[0m   driver\u001b[38;5;241m.\u001b[39msleep(\u001b[38;5;241m1.5\u001b[39m)\n\u001b[1;32m     12\u001b[0m   \u001b[38;5;28;01mreturn\u001b[39;00m urlPositionParser(driver\u001b[38;5;241m.\u001b[39mcurrent_url)\n",
      "\u001b[0;31mKeyboardInterrupt\u001b[0m: "
     ]
    }
   ],
   "source": [
    "moveToPos(132.0, 43.1, 11)"
   ]
  },
  {
   "cell_type": "code",
   "execution_count": 197,
   "metadata": {},
   "outputs": [
    {
     "name": "stdout",
     "output_type": "stream",
     "text": [
      "Commands: [([(7, 1)], []), ([(8, 1)], []), ([(9, 1)], []), ([(10, 1)], []), ([], [(12, 2)])]\n",
      "controlPos: 139.20000000000002 / newPos.x: 139.1 / err: -0.10000000000002274 (max: 0.9900000000000004)\n",
      "Commands: [([(7, 1)], []), ([(8, 1)], []), ([(9, 1)], []), ([(10, 1)], []), ([(12, 3)], [(12, 3)])]\n",
      "controlPos: 139.5 / newPos.x: 139.6 / err: 0.09999999999999432 (max: 0.44000000000000045)\n",
      "Commands: [([(7, 1)], []), ([(8, 1)], []), ([(9, 1)], []), ([(12, 3)], [(12, 3)])]\n",
      "controlPos: 139.79999999999998 / newPos.x: 139.8 / err: 2.842170943040401e-14 (max: 0.2200000000000012)\n",
      "Commands: [([(7, 1)], []), ([(8, 1)], []), ([(9, 1)], []), ([(12, 3)], [(12, 3)])]\n",
      "controlPos: 139.9 / newPos.x: 139.9 / err: 0.0 (max: 0.10999999999999961)\n",
      "Commands: [([(7, 1)], []), ([(8, 1)], []), ([(9, 1)], []), ([(12, 3)], [(12, 3)]), ([], [(12, 3)])]\n",
      "controlPos: 35.586 / newPos.y: 35.577 / err: -0.009000000000000341 (max: 0.029699999999999175)\n"
     ]
    }
   ],
   "source": [
    "moveToPos(139.890, 35.597, 12)"
   ]
  },
  {
   "cell_type": "code",
   "execution_count": 198,
   "metadata": {},
   "outputs": [
    {
     "name": "stdout",
     "output_type": "stream",
     "text": [
      "Commands: [([(5, -1)], [(5, -1)]), ([(6, 1)], [(6, 1)]), ([(7, 1)], [(7, 1)]), ([(8, 1)], [(8, 1)]), ([(9, 1)], []), ([(12, 2)], [])]\n",
      "controlPos: 136.4 / newPos.x: 136.4 / err: 0.0 (max: 3.8500000000000005)\n",
      "controlPos: 32.2 / newPos.y: 32.7 / err: 0.5 (max: 3.739999999999999)\n",
      "Commands: [([(5, -1)], [(5, -1)]), ([(6, 1)], [(6, 1)]), ([(7, 1)], []), ([(8, 1)], [(8, 2)]), ([(9, 1)], []), ([(12, 2)], [])]\n",
      "controlPos: 138.20000000000002 / newPos.x: 138.2 / err: -2.842170943040401e-14 (max: 1.9800000000000009)\n",
      "controlPos: 34.400000000000006 / newPos.y: 34.1 / err: -0.30000000000000426 (max: 1.8699999999999994)\n",
      "Commands: [([(5, -1)], [(5, -1)]), ([(6, 1)], [(6, 1)]), ([(7, 1)], [(7, 1)]), ([(8, 1)], []), ([(9, 1)], [(9, 1)]), ([(12, 3)], [])]\n",
      "controlPos: 139.1 / newPos.x: 139.0 / err: -0.09999999999999432 (max: 0.9900000000000004)\n",
      "controlPos: 35.0 / newPos.y: 34.9 / err: -0.10000000000000142 (max: 0.9900000000000004)\n",
      "Commands: [([(5, -1)], [(5, -1)]), ([(6, 1)], [(6, 1)]), ([(7, 1)], [(7, 1)]), ([(8, 1)], []), ([(9, 1)], [(9, 1)]), ([(10, 1)], [(10, 1)]), ([(12, 3)], [])]\n",
      "controlPos: 139.4 / newPos.x: 139.5 / err: 0.09999999999999432 (max: 0.44000000000000045)\n",
      "controlPos: 35.3 / newPos.y: 35.2 / err: -0.09999999999999432 (max: 0.44000000000000045)\n",
      "Commands: [([(5, -1)], [(5, -1)]), ([(6, 1)], [(6, 1)]), ([(7, 1)], [(7, 1)]), ([(8, 1)], []), ([(9, 1)], []), ([(12, 3)], [])]\n",
      "controlPos: 139.7 / newPos.x: 139.7 / err: 0.0 (max: 0.2200000000000012)\n",
      "Commands: [([(5, -1)], [(5, -1)]), ([(6, 1)], [(6, 1)]), ([(7, 1)], [(7, 1)]), ([(8, 1)], []), ([(9, 1)], []), ([(12, 3)], [])]\n",
      "controlPos: 139.756 / newPos.x: 139.757 / err: 0.0010000000000047748 (max: 0.02970000000000113)\n"
     ]
    }
   ],
   "source": [
    "moveToPos(139.781, 35.206, 12)"
   ]
  }
 ],
 "metadata": {
  "kernelspec": {
   "display_name": "Python 3",
   "language": "python",
   "name": "python3"
  },
  "language_info": {
   "codemirror_mode": {
    "name": "ipython",
    "version": 3
   },
   "file_extension": ".py",
   "mimetype": "text/x-python",
   "name": "python",
   "nbconvert_exporter": "python",
   "pygments_lexer": "ipython3",
   "version": "3.11.10"
  }
 },
 "nbformat": 4,
 "nbformat_minor": 2
}
